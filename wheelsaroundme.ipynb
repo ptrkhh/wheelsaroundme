{
 "cells": [
  {
   "cell_type": "markdown",
   "source": [
    "First of all, let's download the file. Thankfully wheelsaroundme allows public access to his Google Sheet spreadsheet, so we don't need to create and API key yada-yada-yada"
   ],
   "metadata": {
    "collapsed": false
   },
   "id": "4fa19eb38dc7ad74"
  },
  {
   "cell_type": "code",
   "outputs": [
    {
     "data": {
      "text/plain": "      Unnamed: 0                       Jenis Kendaraan Tahun  CC mesin  \\\n0              0                   Audi A4 B8 1.8 TFSI  2011    1800.0   \n1              1                   Audi A6 C6 2.0 TFSI  2011    2000.0   \n2              2                   Austin Cooper S MK1  1965    1293.0   \n3              3                          BMW 120i E87  2005    2000.0   \n4              4            BMW 218i Active Tourer F45  2015    1500.0   \n...          ...                                   ...   ...       ...   \n1128        1128             Mercedes-Benz 300E (W124)  1989    3000.0   \n1129        1129  BMW 520i (E34) (stroke up to 2500cc)  1991    2500.0   \n1130        1130        Hyundai Trajet AT GL8 non CVVT  2005    2000.0   \n1131        1131       Mitsubishi Galant ST V6 2.500CC  2000    2500.0   \n1132        1132                Toyota Kijang Commando  1988    1500.0   \n\n          GEARBOX Konsumsi dalam kota (KM/L) Konsumsi luar kota (KM/L)  \\\n0             CVT                          8                        12   \n1             CVT                        8-9                     12-13   \n2             4MT                        5-7                        10   \n3      6 speed AT                       9-10                        15   \n4     A/T 6 speed                         12                        16   \n...           ...                        ...                       ...   \n1128  M/T 5 speed                        4-5                       6-7   \n1129  M/T 5 speed                          5                         7   \n1130   AT 4-Speed                        6-7                       8-9   \n1131   AT 4-speed                        6-8                     10-11   \n1132          MT                          10                        16   \n\n                      Jenis Bensin USERNAME/NAMA (demi validitas)  \\\n0                         Pertamax                      iamdiasxz   \n1                          Vivo 95                   Kevin.taruna   \n2     Shell Vpower/ Pertamax Turbo                      Anggarazk   \n3                         Pertamax                      Santoso97   \n4                   Pertamax Turbo                            dvn   \n...                            ...                            ...   \n1128                   Pertamax 92               chaskapetrolhead   \n1129                   Pertamax 92               chaskapetrolhead   \n1130                   Pertamax 92                        _da.vin   \n1131          Pertalite - Pertamax                       agungiki   \n1132                     Pertalite                 berwin.smngklt   \n\n               DOMISILI  ... Unnamed: 18 Unnamed: 19  Unnamed: 20  \\\n0            Bojonegoro  ...         NaN         NaN          NaN   \n1     Tangerang Selatan  ...         NaN         NaN          NaN   \n2                Bekasi  ...         NaN         NaN          NaN   \n3               Jakarta  ...         NaN         NaN          NaN   \n4     Tangerang Selatan  ...         NaN         NaN          NaN   \n...                 ...  ...         ...         ...          ...   \n1128            Jakarta  ...         NaN         NaN          NaN   \n1129            Jakarta  ...         NaN         NaN          NaN   \n1130            Jakarta  ...         NaN         NaN          NaN   \n1131   Bekasi-Tangerang  ...         NaN         NaN          NaN   \n1132            Jakarta  ...         NaN         NaN          NaN   \n\n      Unnamed: 21  Unnamed: 22  Unnamed: 23  Unnamed: 24  Unnamed: 25  \\\n0             NaN          NaN          NaN          NaN          NaN   \n1             NaN          NaN          NaN          NaN          NaN   \n2             NaN          NaN          NaN          NaN          NaN   \n3             NaN          NaN          NaN          NaN          NaN   \n4             NaN          NaN          NaN          NaN          NaN   \n...           ...          ...          ...          ...          ...   \n1128          NaN          NaN          NaN          NaN          NaN   \n1129          NaN          NaN          NaN          NaN          NaN   \n1130          NaN          NaN          NaN          NaN          NaN   \n1131          NaN          NaN          NaN          NaN          NaN   \n1132          NaN          NaN          NaN          NaN          NaN   \n\n      Unnamed: 26  Unnamed: 27  \n0             NaN          NaN  \n1             NaN          NaN  \n2             NaN          NaN  \n3             NaN          NaN  \n4             NaN          NaN  \n...           ...          ...  \n1128          NaN          NaN  \n1129          NaN          NaN  \n1130          NaN          NaN  \n1131          NaN          NaN  \n1132          NaN          NaN  \n\n[1133 rows x 29 columns]",
      "text/html": "<div>\n<style scoped>\n    .dataframe tbody tr th:only-of-type {\n        vertical-align: middle;\n    }\n\n    .dataframe tbody tr th {\n        vertical-align: top;\n    }\n\n    .dataframe thead th {\n        text-align: right;\n    }\n</style>\n<table border=\"1\" class=\"dataframe\">\n  <thead>\n    <tr style=\"text-align: right;\">\n      <th></th>\n      <th>Unnamed: 0</th>\n      <th>Jenis Kendaraan</th>\n      <th>Tahun</th>\n      <th>CC mesin</th>\n      <th>GEARBOX</th>\n      <th>Konsumsi dalam kota (KM/L)</th>\n      <th>Konsumsi luar kota (KM/L)</th>\n      <th>Jenis Bensin</th>\n      <th>USERNAME/NAMA (demi validitas)</th>\n      <th>DOMISILI</th>\n      <th>...</th>\n      <th>Unnamed: 18</th>\n      <th>Unnamed: 19</th>\n      <th>Unnamed: 20</th>\n      <th>Unnamed: 21</th>\n      <th>Unnamed: 22</th>\n      <th>Unnamed: 23</th>\n      <th>Unnamed: 24</th>\n      <th>Unnamed: 25</th>\n      <th>Unnamed: 26</th>\n      <th>Unnamed: 27</th>\n    </tr>\n  </thead>\n  <tbody>\n    <tr>\n      <th>0</th>\n      <td>0</td>\n      <td>Audi A4 B8 1.8 TFSI</td>\n      <td>2011</td>\n      <td>1800.0</td>\n      <td>CVT</td>\n      <td>8</td>\n      <td>12</td>\n      <td>Pertamax</td>\n      <td>iamdiasxz</td>\n      <td>Bojonegoro</td>\n      <td>...</td>\n      <td>NaN</td>\n      <td>NaN</td>\n      <td>NaN</td>\n      <td>NaN</td>\n      <td>NaN</td>\n      <td>NaN</td>\n      <td>NaN</td>\n      <td>NaN</td>\n      <td>NaN</td>\n      <td>NaN</td>\n    </tr>\n    <tr>\n      <th>1</th>\n      <td>1</td>\n      <td>Audi A6 C6 2.0 TFSI</td>\n      <td>2011</td>\n      <td>2000.0</td>\n      <td>CVT</td>\n      <td>8-9</td>\n      <td>12-13</td>\n      <td>Vivo 95</td>\n      <td>Kevin.taruna</td>\n      <td>Tangerang Selatan</td>\n      <td>...</td>\n      <td>NaN</td>\n      <td>NaN</td>\n      <td>NaN</td>\n      <td>NaN</td>\n      <td>NaN</td>\n      <td>NaN</td>\n      <td>NaN</td>\n      <td>NaN</td>\n      <td>NaN</td>\n      <td>NaN</td>\n    </tr>\n    <tr>\n      <th>2</th>\n      <td>2</td>\n      <td>Austin Cooper S MK1</td>\n      <td>1965</td>\n      <td>1293.0</td>\n      <td>4MT</td>\n      <td>5-7</td>\n      <td>10</td>\n      <td>Shell Vpower/ Pertamax Turbo</td>\n      <td>Anggarazk</td>\n      <td>Bekasi</td>\n      <td>...</td>\n      <td>NaN</td>\n      <td>NaN</td>\n      <td>NaN</td>\n      <td>NaN</td>\n      <td>NaN</td>\n      <td>NaN</td>\n      <td>NaN</td>\n      <td>NaN</td>\n      <td>NaN</td>\n      <td>NaN</td>\n    </tr>\n    <tr>\n      <th>3</th>\n      <td>3</td>\n      <td>BMW 120i E87</td>\n      <td>2005</td>\n      <td>2000.0</td>\n      <td>6 speed AT</td>\n      <td>9-10</td>\n      <td>15</td>\n      <td>Pertamax</td>\n      <td>Santoso97</td>\n      <td>Jakarta</td>\n      <td>...</td>\n      <td>NaN</td>\n      <td>NaN</td>\n      <td>NaN</td>\n      <td>NaN</td>\n      <td>NaN</td>\n      <td>NaN</td>\n      <td>NaN</td>\n      <td>NaN</td>\n      <td>NaN</td>\n      <td>NaN</td>\n    </tr>\n    <tr>\n      <th>4</th>\n      <td>4</td>\n      <td>BMW 218i Active Tourer F45</td>\n      <td>2015</td>\n      <td>1500.0</td>\n      <td>A/T 6 speed</td>\n      <td>12</td>\n      <td>16</td>\n      <td>Pertamax Turbo</td>\n      <td>dvn</td>\n      <td>Tangerang Selatan</td>\n      <td>...</td>\n      <td>NaN</td>\n      <td>NaN</td>\n      <td>NaN</td>\n      <td>NaN</td>\n      <td>NaN</td>\n      <td>NaN</td>\n      <td>NaN</td>\n      <td>NaN</td>\n      <td>NaN</td>\n      <td>NaN</td>\n    </tr>\n    <tr>\n      <th>...</th>\n      <td>...</td>\n      <td>...</td>\n      <td>...</td>\n      <td>...</td>\n      <td>...</td>\n      <td>...</td>\n      <td>...</td>\n      <td>...</td>\n      <td>...</td>\n      <td>...</td>\n      <td>...</td>\n      <td>...</td>\n      <td>...</td>\n      <td>...</td>\n      <td>...</td>\n      <td>...</td>\n      <td>...</td>\n      <td>...</td>\n      <td>...</td>\n      <td>...</td>\n      <td>...</td>\n    </tr>\n    <tr>\n      <th>1128</th>\n      <td>1128</td>\n      <td>Mercedes-Benz 300E (W124)</td>\n      <td>1989</td>\n      <td>3000.0</td>\n      <td>M/T 5 speed</td>\n      <td>4-5</td>\n      <td>6-7</td>\n      <td>Pertamax 92</td>\n      <td>chaskapetrolhead</td>\n      <td>Jakarta</td>\n      <td>...</td>\n      <td>NaN</td>\n      <td>NaN</td>\n      <td>NaN</td>\n      <td>NaN</td>\n      <td>NaN</td>\n      <td>NaN</td>\n      <td>NaN</td>\n      <td>NaN</td>\n      <td>NaN</td>\n      <td>NaN</td>\n    </tr>\n    <tr>\n      <th>1129</th>\n      <td>1129</td>\n      <td>BMW 520i (E34) (stroke up to 2500cc)</td>\n      <td>1991</td>\n      <td>2500.0</td>\n      <td>M/T 5 speed</td>\n      <td>5</td>\n      <td>7</td>\n      <td>Pertamax 92</td>\n      <td>chaskapetrolhead</td>\n      <td>Jakarta</td>\n      <td>...</td>\n      <td>NaN</td>\n      <td>NaN</td>\n      <td>NaN</td>\n      <td>NaN</td>\n      <td>NaN</td>\n      <td>NaN</td>\n      <td>NaN</td>\n      <td>NaN</td>\n      <td>NaN</td>\n      <td>NaN</td>\n    </tr>\n    <tr>\n      <th>1130</th>\n      <td>1130</td>\n      <td>Hyundai Trajet AT GL8 non CVVT</td>\n      <td>2005</td>\n      <td>2000.0</td>\n      <td>AT 4-Speed</td>\n      <td>6-7</td>\n      <td>8-9</td>\n      <td>Pertamax 92</td>\n      <td>_da.vin</td>\n      <td>Jakarta</td>\n      <td>...</td>\n      <td>NaN</td>\n      <td>NaN</td>\n      <td>NaN</td>\n      <td>NaN</td>\n      <td>NaN</td>\n      <td>NaN</td>\n      <td>NaN</td>\n      <td>NaN</td>\n      <td>NaN</td>\n      <td>NaN</td>\n    </tr>\n    <tr>\n      <th>1131</th>\n      <td>1131</td>\n      <td>Mitsubishi Galant ST V6 2.500CC</td>\n      <td>2000</td>\n      <td>2500.0</td>\n      <td>AT 4-speed</td>\n      <td>6-8</td>\n      <td>10-11</td>\n      <td>Pertalite - Pertamax</td>\n      <td>agungiki</td>\n      <td>Bekasi-Tangerang</td>\n      <td>...</td>\n      <td>NaN</td>\n      <td>NaN</td>\n      <td>NaN</td>\n      <td>NaN</td>\n      <td>NaN</td>\n      <td>NaN</td>\n      <td>NaN</td>\n      <td>NaN</td>\n      <td>NaN</td>\n      <td>NaN</td>\n    </tr>\n    <tr>\n      <th>1132</th>\n      <td>1132</td>\n      <td>Toyota Kijang Commando</td>\n      <td>1988</td>\n      <td>1500.0</td>\n      <td>MT</td>\n      <td>10</td>\n      <td>16</td>\n      <td>Pertalite</td>\n      <td>berwin.smngklt</td>\n      <td>Jakarta</td>\n      <td>...</td>\n      <td>NaN</td>\n      <td>NaN</td>\n      <td>NaN</td>\n      <td>NaN</td>\n      <td>NaN</td>\n      <td>NaN</td>\n      <td>NaN</td>\n      <td>NaN</td>\n      <td>NaN</td>\n      <td>NaN</td>\n    </tr>\n  </tbody>\n</table>\n<p>1133 rows × 29 columns</p>\n</div>"
     },
     "execution_count": 70,
     "metadata": {},
     "output_type": "execute_result"
    }
   ],
   "source": [
    "from pathlib import Path\n",
    "\n",
    "import pandas as pd\n",
    "\n",
    "if Path(\"wam.csv\").exists():\n",
    "    df = pd.read_csv(\"wam.csv\")\n",
    "else:\n",
    "    url = \"https://docs.google.com/spreadsheets/d/1ttSU56TcDoZBzcCAIp7VPEjHDIcIuyi8wtb5FO3V2bA/export?format=csv\"\n",
    "    df = pd.read_csv(url)\n",
    "    df.to_csv('wam.csv')\n",
    "df"
   ],
   "metadata": {
    "collapsed": false,
    "ExecuteTime": {
     "end_time": "2024-02-02T09:11:01.794366300Z",
     "start_time": "2024-02-02T09:11:00.581858700Z"
    }
   },
   "id": "dc965890f8d9f6fd",
   "execution_count": 70
  },
  {
   "cell_type": "markdown",
   "source": [
    "There are some problems with the data:\n",
    "1. Some users put the \"CC mesin\" (engine cc) column in liters instaed\n",
    "2. Gearbox values are wild\n",
    "3. One user put \"A\" in the \"Tahun\" (model year) column \n",
    "4. \"Konsumsi dalam kota (KM/L)\" (city fuel consumption in km/L) and \"Konsumsi luar kota (KM/L)\" (highway fuel consumption in km/L) values are also wild\n",
    "\n",
    "Let's deal with the issues one-by-one"
   ],
   "metadata": {
    "collapsed": false
   },
   "id": "ffbbb0449ff1af1c"
  },
  {
   "cell_type": "markdown",
   "source": [
    "Since we know for a fact that 1L = 1000cc, we could just normalize them together. Here we assumed no car engine displacement is less than 100cc nor more than 100L, for obvious reason.\n"
   ],
   "metadata": {
    "collapsed": false
   },
   "id": "bf1b6cc1ed67d179"
  },
  {
   "cell_type": "code",
   "outputs": [
    {
     "data": {
      "text/plain": "            Jenis Kendaraan  CC mesin\n77   Daihatsu Ayla X 1.0 MT       1.0\n863   Toyota Raize 1.0 T GR       1.0\n75   Daihatsu Ayla M 1.0 MT       1.0\n663        Suzuki Ignis AGS       1.2\n664        Suzuki Ignis AGS       1.2",
      "text/html": "<div>\n<style scoped>\n    .dataframe tbody tr th:only-of-type {\n        vertical-align: middle;\n    }\n\n    .dataframe tbody tr th {\n        vertical-align: top;\n    }\n\n    .dataframe thead th {\n        text-align: right;\n    }\n</style>\n<table border=\"1\" class=\"dataframe\">\n  <thead>\n    <tr style=\"text-align: right;\">\n      <th></th>\n      <th>Jenis Kendaraan</th>\n      <th>CC mesin</th>\n    </tr>\n  </thead>\n  <tbody>\n    <tr>\n      <th>77</th>\n      <td>Daihatsu Ayla X 1.0 MT</td>\n      <td>1.0</td>\n    </tr>\n    <tr>\n      <th>863</th>\n      <td>Toyota Raize 1.0 T GR</td>\n      <td>1.0</td>\n    </tr>\n    <tr>\n      <th>75</th>\n      <td>Daihatsu Ayla M 1.0 MT</td>\n      <td>1.0</td>\n    </tr>\n    <tr>\n      <th>663</th>\n      <td>Suzuki Ignis AGS</td>\n      <td>1.2</td>\n    </tr>\n    <tr>\n      <th>664</th>\n      <td>Suzuki Ignis AGS</td>\n      <td>1.2</td>\n    </tr>\n  </tbody>\n</table>\n</div>"
     },
     "execution_count": 71,
     "metadata": {},
     "output_type": "execute_result"
    }
   ],
   "source": [
    "df.loc[:, ['Jenis Kendaraan', 'CC mesin']].sort_values(\"CC mesin\").head()"
   ],
   "metadata": {
    "collapsed": false,
    "ExecuteTime": {
     "end_time": "2024-02-02T09:11:01.999245Z",
     "start_time": "2024-02-02T09:11:01.767355200Z"
    }
   },
   "id": "5acab8b9080236f7",
   "execution_count": 71
  },
  {
   "cell_type": "code",
   "outputs": [
    {
     "data": {
      "text/plain": "                  Jenis Kendaraan  CC mesin\n80              Daihatsu Ceria KX     849.0\n676   Suzuki Karimun Kotak SL410R     985.0\n337            KIA Morning 1.0 MT    1000.0\n1048         Toyota Agya 1.0 TRDs    1000.0\n1052         Daihatsu Ayla 1.0 X     1000.0",
      "text/html": "<div>\n<style scoped>\n    .dataframe tbody tr th:only-of-type {\n        vertical-align: middle;\n    }\n\n    .dataframe tbody tr th {\n        vertical-align: top;\n    }\n\n    .dataframe thead th {\n        text-align: right;\n    }\n</style>\n<table border=\"1\" class=\"dataframe\">\n  <thead>\n    <tr style=\"text-align: right;\">\n      <th></th>\n      <th>Jenis Kendaraan</th>\n      <th>CC mesin</th>\n    </tr>\n  </thead>\n  <tbody>\n    <tr>\n      <th>80</th>\n      <td>Daihatsu Ceria KX</td>\n      <td>849.0</td>\n    </tr>\n    <tr>\n      <th>676</th>\n      <td>Suzuki Karimun Kotak SL410R</td>\n      <td>985.0</td>\n    </tr>\n    <tr>\n      <th>337</th>\n      <td>KIA Morning 1.0 MT</td>\n      <td>1000.0</td>\n    </tr>\n    <tr>\n      <th>1048</th>\n      <td>Toyota Agya 1.0 TRDs</td>\n      <td>1000.0</td>\n    </tr>\n    <tr>\n      <th>1052</th>\n      <td>Daihatsu Ayla 1.0 X</td>\n      <td>1000.0</td>\n    </tr>\n  </tbody>\n</table>\n</div>"
     },
     "execution_count": 72,
     "metadata": {},
     "output_type": "execute_result"
    }
   ],
   "source": [
    "df.loc[df['CC mesin'] < 100, 'CC mesin'] *= 1000\n",
    "df.loc[:, ['Jenis Kendaraan', 'CC mesin']].sort_values(\"CC mesin\").head()"
   ],
   "metadata": {
    "collapsed": false,
    "ExecuteTime": {
     "end_time": "2024-02-02T09:11:02.091579100Z",
     "start_time": "2024-02-02T09:11:01.842546700Z"
    }
   },
   "id": "5f7c1d44da8f76d3",
   "execution_count": 72
  },
  {
   "cell_type": "code",
   "outputs": [
    {
     "data": {
      "text/plain": "array(['CVT', '4MT', '6 speed AT', 'A/T 6 speed', 'AT', '5MT', 'MT',\n       'AT Dual Clutch', 'ZF 8HP 8-speed AT', '8AT', 'At',\n       'AT Tiptronic 5', '8 Speed AT', 'M/T', 'AT 5 speed', 'MT 5 speed',\n       'AT Stepteonic', 'AT 6 speed', '6A/T ZF6HP19', 'A/T 6 Speed',\n       'AT 8 Speed', 'M/T 5 speed', 'M/T 5 Speed', '6AT', 'AT 6 Speed',\n       'MT 5speed', '5 M/T', 'manual', 'AT 4 Speed', 'Manual',\n       'AT 4 Speed Tiptronic', 'MT 4 Speed', 'AT (Dual Clutch)',\n       'Dual Clutch AT', 'MT 5 Speed', 'A/T', '5 MT', 'Cvt',\n       'Manual 5 Speed', '4 AT', 'at', 'CVT (7 Speed Artificial)', '6 MT',\n       'CVT 7 speed', '5 AT', '4 A/T', 'AT 4-speed', 'Manual 5', 'mt',\n       '6 AT', 'M/T 5-speed', '6 Speed AT', 'A/t', 'Mt', 'AT 4MATIC',\n       'A/T 7 Speed', 'DCT', 'A/T 7 Spd', '5G-Tronic', '5 A/T',\n       'AT (7G-Tronic)', '9G-Tronic', 'AT 4 speed', '5 Speed AT',\n       '7G-Tronic', '7g-tronic', 'AT 7', '7AT', '9G-Tronik', 'AT 6-spd',\n       'Cvt at', 'AT 4-Speed', '6MT', 'Electric', 'A/T 4 Speed',\n       'Manual 5spd', 'AT 4', 'MT 5-speed', 'AMT 5 Speed', '5 Speed AMT',\n       '5mt', 'AT VVT', '5AMT', 'AMT', '5AGS', '5-AGS/AMT', '5MT/4WD',\n       'AT 6', 'At 6 speed', 'AT 6 Speed ', 'eCVT', 'CVT/AT',\n       '4 speed A/T', 'MT 4-Speed', 'A/T 4 speed', 'AT CVT',\n       'U340E 4-speed AT', 'AT ', '4speed AT', 'AT (DSG)', 'DSG',\n       'DSG DQ200', 'DSG DQ 250', 'AT (DSG DQ250)', 'DSG DQ250 6-speed',\n       'ZF 8-Speed A/T', 'AT AWD', '5 speed AMT', 'A/T 6speed', 'cvt',\n       '5 Speed A/T', '5 Speed M/T', '5 speed M/T', 'A/T 5-Speed',\n       '5 spd AMT', 'M/T 4-Speed', 'A/T 7-Speed', 'A/T 4-Speed',\n       'a/t 4 speed', 'a/t ', 'A/T CVT', '5 Speed MT', 'M/T 5-Speed',\n       '7 Speed DSG', '6 A/T', 'A/T 5 Speed', 'A/T 7 speed',\n       'M/T 4 speed', 'MT '], dtype=object)"
     },
     "execution_count": 73,
     "metadata": {},
     "output_type": "execute_result"
    }
   ],
   "source": [
    "df[\"GEARBOX\"].unique()"
   ],
   "metadata": {
    "collapsed": false,
    "ExecuteTime": {
     "end_time": "2024-02-02T09:11:02.415187100Z",
     "start_time": "2024-02-02T09:11:02.010862700Z"
    }
   },
   "id": "c50e55c795d8d38c",
   "execution_count": 73
  },
  {
   "cell_type": "markdown",
   "source": [
    "There are definitely many, many types of transmissions. For the purpose of this demo, I just split them into 3 categories:\n",
    "\n",
    "* MT: Manual Transmission\n",
    "* CVT: Continuously Variable (Automatic) Transmission\n",
    "* AT: Automatic Transmission, this includes every transmission that isn't MT or CVT"
   ],
   "metadata": {
    "collapsed": false
   },
   "id": "f31ea3906dc0e811"
  },
  {
   "cell_type": "code",
   "outputs": [
    {
     "data": {
      "text/plain": "array(['CVT', 'MT', 'AT'], dtype=object)"
     },
     "execution_count": 74,
     "metadata": {},
     "output_type": "execute_result"
    }
   ],
   "source": [
    "df[\"gearbox_normalized\"] = \"AT\"\n",
    "df.loc[df[\"GEARBOX\"].isin([\"4MT\", \"5MT\", \"MT\"]), \"gearbox_normalized\"] = \"MT\"\n",
    "df.loc[df[\"GEARBOX\"].isin([\"CVT\"]), \"gearbox_normalized\"] = \"CVT\"\n",
    "df[\"gearbox_normalized\"].unique()"
   ],
   "metadata": {
    "collapsed": false,
    "ExecuteTime": {
     "end_time": "2024-02-02T09:11:03.165004500Z",
     "start_time": "2024-02-02T09:11:02.375759500Z"
    }
   },
   "id": "d876df843dd90f1a",
   "execution_count": 74
  },
  {
   "cell_type": "markdown",
   "source": [
    "Now let's deal with the Tahun (model year) column\n"
   ],
   "metadata": {
    "collapsed": false
   },
   "id": "440437ab8a150be8"
  },
  {
   "cell_type": "code",
   "outputs": [
    {
     "data": {
      "text/plain": "           Jenis Kendaraan Tahun\n920       Volvo 960 Ex KTT     A\n266           Honda HRV SE  2022\n145  Honda Brio 1.2 RS CVT  2022\n255           Honda HR-V S  2022\n254          Honda HR-V RS  2022",
      "text/html": "<div>\n<style scoped>\n    .dataframe tbody tr th:only-of-type {\n        vertical-align: middle;\n    }\n\n    .dataframe tbody tr th {\n        vertical-align: top;\n    }\n\n    .dataframe thead th {\n        text-align: right;\n    }\n</style>\n<table border=\"1\" class=\"dataframe\">\n  <thead>\n    <tr style=\"text-align: right;\">\n      <th></th>\n      <th>Jenis Kendaraan</th>\n      <th>Tahun</th>\n    </tr>\n  </thead>\n  <tbody>\n    <tr>\n      <th>920</th>\n      <td>Volvo 960 Ex KTT</td>\n      <td>A</td>\n    </tr>\n    <tr>\n      <th>266</th>\n      <td>Honda HRV SE</td>\n      <td>2022</td>\n    </tr>\n    <tr>\n      <th>145</th>\n      <td>Honda Brio 1.2 RS CVT</td>\n      <td>2022</td>\n    </tr>\n    <tr>\n      <th>255</th>\n      <td>Honda HR-V S</td>\n      <td>2022</td>\n    </tr>\n    <tr>\n      <th>254</th>\n      <td>Honda HR-V RS</td>\n      <td>2022</td>\n    </tr>\n  </tbody>\n</table>\n</div>"
     },
     "execution_count": 75,
     "metadata": {},
     "output_type": "execute_result"
    }
   ],
   "source": [
    "df.loc[:, ['Jenis Kendaraan', 'Tahun']].sort_values(\"Tahun\", ascending=False).head()"
   ],
   "metadata": {
    "collapsed": false,
    "ExecuteTime": {
     "end_time": "2024-02-02T09:11:03.467853100Z",
     "start_time": "2024-02-02T09:11:02.822052100Z"
    }
   },
   "id": "45ed71b800fde609",
   "execution_count": 75
  },
  {
   "cell_type": "markdown",
   "source": [
    "A quick search on KTT in Indonesia and Volvo 960, we could conclude the car has the model year of 1992, so let's put 1992 there.\n",
    "While we are at it, let's also convert it into integers. If there's an unlikely value, it would throw an error."
   ],
   "metadata": {
    "collapsed": false
   },
   "id": "b3437baa68629249"
  },
  {
   "cell_type": "code",
   "outputs": [],
   "source": [
    "df.loc[df[\"Tahun\"].isin([\"A\"]), \"Tahun\"] = 1992\n",
    "df[\"Tahun\"] = df[\"Tahun\"].astype(\"int\")"
   ],
   "metadata": {
    "collapsed": false,
    "ExecuteTime": {
     "end_time": "2024-02-02T09:11:03.783482200Z",
     "start_time": "2024-02-02T09:11:03.413440900Z"
    }
   },
   "id": "3b74a043ce63cdda",
   "execution_count": 76
  },
  {
   "cell_type": "markdown",
   "source": [
    "Let's take a look at the fuel consumption column"
   ],
   "metadata": {
    "collapsed": false
   },
   "id": "5415d09dbedb0430"
  },
  {
   "cell_type": "code",
   "outputs": [
    {
     "data": {
      "text/plain": "array(['8', '8-9', '5-7', '9-10', '12', '12.5', '7', '6', '9', '6.8',\n       '11', '10', '10-12', '5-5.5', '6-7', '4-5.5', '8/9', '7.8', '7-8',\n       '6.2', '5-6.5', '7-9', '6.8 - 7.2', '5.5-6.5', '6.5-11', '8-10',\n       '8,5-9', '10.5', '5.6', '3.8', '4', '3', '5.5-6', '2', '9/10',\n       '12-13', '9.8-11.2', '14-15', '16', '14', '14.1', '11-13', '15',\n       '13-15', '11-14', '12-14.5', '19.6', '10 - 11', '8-11', '10-11',\n       '11-12', '14.7', '5-6', '5', '10.9', '7.3', '6.5', '14-16', '15.1',\n       '13', '10.4', '13.3', '11.1', '10.8', '8.5-9', '11-3', '11.5',\n       '8.5', '7.5', '9.1', '1:9', '9-11', '7.9', '8-5', '9.0', '8-8',\n       '8.5-9.5', '8,2-10,2', '1:7 - 1:8', '8.4', '6.5 - 7', '6,5-7,5',\n       '9.5', '9,5', '1-12', '9-10,5', '11-12 / 12-13', '1:9-10', '13-14',\n       '12-14', '9.8', '9-12', '11-4', '12.9', '11 - 12', '16-17',\n       '12-15', '7-5', '7-9,5', '6-8', '4-6', '11-5', '1:13', '9.5-11',\n       '1:10', '8.8', '3,9-4,2', '8,5-9,5', '6,7-8,5', '13.8', '15.8',\n       '15.15', '17', '15.4', '15.5', '8-12', '9.7', '8 - 10', '11-2',\n       '8-9,5', '7.8-8.2', '6.1-7', '7.2', '4.5-6', '4.5 - 5', '4.5',\n       '6 - 6,5', '3-7', '7.5-9', '4-5', '9-8', '10,7', '10-11,5',\n       '2,5-3', '3.5', '9 - 10', '22(lancar) 25(macet )', '6 - 8', '8.6',\n       '7.5 - 8.3', '7 - 8', '8/11', '6-9', '13-17', '15-20', '12.8',\n       '10.6', '8.7', '15.0', '10.7', '9.8-11.4', '11.5-12.5', '20',\n       '12.7', '12.2', '14.8', '9.2', '6-7.5', '7-10', '23', '7.5 - 9',\n       '10.3', '10.11', '8,5', '9.4', '9,8', '11,7', '1.8-1.9', '4.5-8.2',\n       nan, '8,7', '10-14', '14,5', '11,5', '9,5-9,8', '1:9 - 1:10',\n       '1:9,09 (combined)', '1:13-14 (Oli 5w-30)', '10,5', '10-10,5',\n       '13-14 / 12-13', '9,5-11 / 10-12', '1:12', '4,5-6', '4-7', '11.3',\n       '7.4', '11.6', '8.9', '19', '14.3', '11.0', '7.1', '6—8', '6.6',\n       '10.2', '9,5 - 12', '12 - 13', '8 — 9', '9 — 11', '10 — 12', '3-4',\n       '11.2', '8.3', '7 - 7.5', '8 - 9', '9.6', '10,2', '9,8-10,2',\n       '13.4', '15-16', '7,8-8,2', '18', '8-13', '9,5-11', '10,3', '13.1',\n       '8.8-10', '6.1', '10 - 13', '7 - 9'], dtype=object)"
     },
     "execution_count": 77,
     "metadata": {},
     "output_type": "execute_result"
    }
   ],
   "source": [
    "df[\"Konsumsi dalam kota (KM/L)\"].unique()"
   ],
   "metadata": {
    "collapsed": false,
    "ExecuteTime": {
     "end_time": "2024-02-02T09:11:04.158967700Z",
     "start_time": "2024-02-02T09:11:03.752867700Z"
    }
   },
   "id": "c01d06a67de83bed",
   "execution_count": 77
  },
  {
   "cell_type": "markdown",
   "source": [
    "Turns out it's quite problematic since it is a free text form. For the purpose of this demo, let's just prune every non-numeric values."
   ],
   "metadata": {
    "collapsed": false
   },
   "id": "acab55fac4172304"
  },
  {
   "cell_type": "code",
   "outputs": [
    {
     "data": {
      "text/plain": "   city   hwy\n0   8.0  12.0\n1   NaN   NaN\n2   NaN  10.0\n3   NaN  15.0\n4  12.0  16.0",
      "text/html": "<div>\n<style scoped>\n    .dataframe tbody tr th:only-of-type {\n        vertical-align: middle;\n    }\n\n    .dataframe tbody tr th {\n        vertical-align: top;\n    }\n\n    .dataframe thead th {\n        text-align: right;\n    }\n</style>\n<table border=\"1\" class=\"dataframe\">\n  <thead>\n    <tr style=\"text-align: right;\">\n      <th></th>\n      <th>city</th>\n      <th>hwy</th>\n    </tr>\n  </thead>\n  <tbody>\n    <tr>\n      <th>0</th>\n      <td>8.0</td>\n      <td>12.0</td>\n    </tr>\n    <tr>\n      <th>1</th>\n      <td>NaN</td>\n      <td>NaN</td>\n    </tr>\n    <tr>\n      <th>2</th>\n      <td>NaN</td>\n      <td>10.0</td>\n    </tr>\n    <tr>\n      <th>3</th>\n      <td>NaN</td>\n      <td>15.0</td>\n    </tr>\n    <tr>\n      <th>4</th>\n      <td>12.0</td>\n      <td>16.0</td>\n    </tr>\n  </tbody>\n</table>\n</div>"
     },
     "execution_count": 78,
     "metadata": {},
     "output_type": "execute_result"
    }
   ],
   "source": [
    "df[\"city\"] = pd.to_numeric(df[\"Konsumsi dalam kota (KM/L)\"], errors='coerce')\n",
    "df[\"hwy\"] = pd.to_numeric(df[\"Konsumsi luar kota (KM/L)\"], errors='coerce')\n",
    "df.loc[:, ['city', \"hwy\"]].head()"
   ],
   "metadata": {
    "collapsed": false,
    "ExecuteTime": {
     "end_time": "2024-02-02T09:11:04.416718100Z",
     "start_time": "2024-02-02T09:11:03.926707300Z"
    }
   },
   "id": "2d4738b831df6ce2",
   "execution_count": 78
  },
  {
   "cell_type": "markdown",
   "source": [
    "Now we prune every row that contains a NaN"
   ],
   "metadata": {
    "collapsed": false
   },
   "id": "b824a0ce3efc44f3"
  },
  {
   "cell_type": "code",
   "outputs": [
    {
     "data": {
      "text/plain": "(550, 32)"
     },
     "execution_count": 79,
     "metadata": {},
     "output_type": "execute_result"
    }
   ],
   "source": [
    "df = df.dropna(subset=[\"city\"])\n",
    "df = df.dropna(subset=[\"hwy\"])\n",
    "df.shape"
   ],
   "metadata": {
    "collapsed": false,
    "ExecuteTime": {
     "end_time": "2024-02-02T09:11:04.861531300Z",
     "start_time": "2024-02-02T09:11:04.424189100Z"
    }
   },
   "id": "cfeeec3d824a97c9",
   "execution_count": 79
  },
  {
   "cell_type": "markdown",
   "source": [
    "We still got 550 rows. We sadly had to remove half of our data. While this is NOT considered a good practice in the industry, for the purpose of this demo, it is still workable.\n",
    "\n",
    "Let's check our brand spankin new columns!"
   ],
   "metadata": {
    "collapsed": false
   },
   "id": "3ba2374e4bdeb7a9"
  },
  {
   "cell_type": "code",
   "outputs": [
    {
     "data": {
      "text/plain": "             city           hwy\ncount  550.000000  5.500000e+02\nmean     9.472273  2.114865e+05\nstd      2.749297  4.959484e+06\nmin      2.000000  4.000000e+00\n25%      8.000000  1.100000e+01\n50%      9.000000  1.300000e+01\n75%     11.000000  1.500000e+01\nmax     23.000000  1.163102e+08",
      "text/html": "<div>\n<style scoped>\n    .dataframe tbody tr th:only-of-type {\n        vertical-align: middle;\n    }\n\n    .dataframe tbody tr th {\n        vertical-align: top;\n    }\n\n    .dataframe thead th {\n        text-align: right;\n    }\n</style>\n<table border=\"1\" class=\"dataframe\">\n  <thead>\n    <tr style=\"text-align: right;\">\n      <th></th>\n      <th>city</th>\n      <th>hwy</th>\n    </tr>\n  </thead>\n  <tbody>\n    <tr>\n      <th>count</th>\n      <td>550.000000</td>\n      <td>5.500000e+02</td>\n    </tr>\n    <tr>\n      <th>mean</th>\n      <td>9.472273</td>\n      <td>2.114865e+05</td>\n    </tr>\n    <tr>\n      <th>std</th>\n      <td>2.749297</td>\n      <td>4.959484e+06</td>\n    </tr>\n    <tr>\n      <th>min</th>\n      <td>2.000000</td>\n      <td>4.000000e+00</td>\n    </tr>\n    <tr>\n      <th>25%</th>\n      <td>8.000000</td>\n      <td>1.100000e+01</td>\n    </tr>\n    <tr>\n      <th>50%</th>\n      <td>9.000000</td>\n      <td>1.300000e+01</td>\n    </tr>\n    <tr>\n      <th>75%</th>\n      <td>11.000000</td>\n      <td>1.500000e+01</td>\n    </tr>\n    <tr>\n      <th>max</th>\n      <td>23.000000</td>\n      <td>1.163102e+08</td>\n    </tr>\n  </tbody>\n</table>\n</div>"
     },
     "execution_count": 80,
     "metadata": {},
     "output_type": "execute_result"
    }
   ],
   "source": [
    "df[[\"city\", \"hwy\"]].describe()"
   ],
   "metadata": {
    "collapsed": false,
    "ExecuteTime": {
     "end_time": "2024-02-02T09:11:05.260983700Z",
     "start_time": "2024-02-02T09:11:04.831314100Z"
    }
   },
   "id": "ce86a9fc324c645e",
   "execution_count": 80
  },
  {
   "cell_type": "markdown",
   "source": [
    "Whoops, a dude put an unusually large highway MPG, let's just remove that anomaly.\n",
    "\n",
    "(I checked the data, it's a Suzuki Ertiga. There's NO WAY it's that efficient LOL)"
   ],
   "metadata": {
    "collapsed": false
   },
   "id": "8894e477bcddb864"
  },
  {
   "cell_type": "code",
   "outputs": [
    {
     "data": {
      "text/plain": "             city         hwy\ncount  549.000000  549.000000\nmean     9.467668   13.351093\nstd      2.749681    3.364700\nmin      2.000000    4.000000\n25%      8.000000   11.000000\n50%      9.000000   13.000000\n75%     11.000000   15.000000\nmax     23.000000   25.000000",
      "text/html": "<div>\n<style scoped>\n    .dataframe tbody tr th:only-of-type {\n        vertical-align: middle;\n    }\n\n    .dataframe tbody tr th {\n        vertical-align: top;\n    }\n\n    .dataframe thead th {\n        text-align: right;\n    }\n</style>\n<table border=\"1\" class=\"dataframe\">\n  <thead>\n    <tr style=\"text-align: right;\">\n      <th></th>\n      <th>city</th>\n      <th>hwy</th>\n    </tr>\n  </thead>\n  <tbody>\n    <tr>\n      <th>count</th>\n      <td>549.000000</td>\n      <td>549.000000</td>\n    </tr>\n    <tr>\n      <th>mean</th>\n      <td>9.467668</td>\n      <td>13.351093</td>\n    </tr>\n    <tr>\n      <th>std</th>\n      <td>2.749681</td>\n      <td>3.364700</td>\n    </tr>\n    <tr>\n      <th>min</th>\n      <td>2.000000</td>\n      <td>4.000000</td>\n    </tr>\n    <tr>\n      <th>25%</th>\n      <td>8.000000</td>\n      <td>11.000000</td>\n    </tr>\n    <tr>\n      <th>50%</th>\n      <td>9.000000</td>\n      <td>13.000000</td>\n    </tr>\n    <tr>\n      <th>75%</th>\n      <td>11.000000</td>\n      <td>15.000000</td>\n    </tr>\n    <tr>\n      <th>max</th>\n      <td>23.000000</td>\n      <td>25.000000</td>\n    </tr>\n  </tbody>\n</table>\n</div>"
     },
     "execution_count": 81,
     "metadata": {},
     "output_type": "execute_result"
    }
   ],
   "source": [
    "df = df.query(\"hwy < 100 & city < 100\")\n",
    "df[[\"city\", \"hwy\"]].describe()"
   ],
   "metadata": {
    "collapsed": false,
    "ExecuteTime": {
     "end_time": "2024-02-02T09:11:05.364441100Z",
     "start_time": "2024-02-02T09:11:04.987984900Z"
    }
   },
   "id": "dc0163b8b5c6fdff",
   "execution_count": 81
  },
  {
   "cell_type": "markdown",
   "source": [
    "Now for the vehicle model, we could not possibly create a database for every possible model out there, there simply isn't enough data to make any meaningful model. In addition, each users may put the same vehicle model in many, many different ways. For the purpose of this demo, we just use the brand of the vehicle.\n",
    "\n",
    "Let's assume the first word of \"Jenis Kendaraan\" (Vehicle Type) is the brand, and we just use the vehicle brand to aid our model. After all, an old Cadillac isn't particularly known for its fuel efficiency, right?"
   ],
   "metadata": {
    "collapsed": false
   },
   "id": "d2371fb7a036045a"
  },
  {
   "cell_type": "code",
   "outputs": [
    {
     "data": {
      "text/plain": "array(['audi', 'bmw', 'cadillac', 'chevrolet', 'daihatsu', 'datsun',\n       'ford', 'honda', 'hyundai', 'jaguar', 'jeep', 'kia', 'land',\n       'lexus', 'mazda', 'mercedes-benz', 'mg', 'mini', 'mitsubishi',\n       'morris', 'nissan', 'opel/chevrolet', 'peugeot', 'proton', 'range',\n       'renault', 'subaru', 'suzuki', 'timor', 'toyota', 'volvo', 'vw',\n       'wuling', 'volkswagen', 'daewoo', 'mercedes', 'grandmax'],\n      dtype=object)"
     },
     "execution_count": 82,
     "metadata": {},
     "output_type": "execute_result"
    }
   ],
   "source": [
    "df['brand'] = df['Jenis Kendaraan'].str.split().str[0].str.lower()\n",
    "df[\"brand\"].unique()"
   ],
   "metadata": {
    "collapsed": false,
    "ExecuteTime": {
     "end_time": "2024-02-02T09:11:05.633131Z",
     "start_time": "2024-02-02T09:11:05.299679800Z"
    }
   },
   "id": "91a46ffd9e55ea4e",
   "execution_count": 82
  },
  {
   "cell_type": "markdown",
   "source": [
    "Ooops, we still need some fixes here. There are some typos, multiple ways to write the same brand, or simply that people forgot to put their vehicle brand at all.\n",
    "\n",
    "_Fun fact: Karimun is the name of an island in Indonesia. Suzuki thought that was a better name for Indonesians than Wagon R. Meanwhile, Totota is a city in Liberia. That one's just a typo._"
   ],
   "metadata": {
    "collapsed": false
   },
   "id": "56e83b6738737e46"
  },
  {
   "cell_type": "code",
   "outputs": [
    {
     "data": {
      "text/plain": "array(['audi', 'bmw', 'cadillac', 'chevrolet', 'daihatsu', 'datsun',\n       'ford', 'honda', 'hyundai', 'jaguar', 'jeep', 'kia', 'land',\n       'lexus', 'mazda', 'mercedes-benz', 'mg', 'mini', 'mitsubishi',\n       'morris', 'nissan', 'peugeot', 'proton', 'range', 'renault',\n       'subaru', 'suzuki', 'timor', 'toyota', 'volvo', 'vw', 'wuling',\n       'daewoo'], dtype=object)"
     },
     "execution_count": 83,
     "metadata": {},
     "output_type": "execute_result"
    }
   ],
   "source": [
    "df.loc[df[\"brand\"].isin([\"grandmax\"]), \"brand\"] = \"daihatsu\"\n",
    "df.loc[df[\"brand\"].isin([\"mercedes\"]), \"brand\"] = \"mercedes-benz\"\n",
    "df.loc[df[\"brand\"].isin([\"opel/chevrolet\"]), \"brand\"] = \"chevrolet\"\n",
    "df.loc[df[\"brand\"].isin([\"karimun\"]), \"brand\"] = \"suzuki\"\n",
    "df.loc[df[\"brand\"].isin([\"totota\"]), \"brand\"] = \"toyota\"\n",
    "df.loc[df[\"brand\"].isin([\"volkswagen\"]), \"brand\"] = \"vw\"\n",
    "\n",
    "df[\"brand\"].unique()"
   ],
   "metadata": {
    "collapsed": false,
    "ExecuteTime": {
     "end_time": "2024-02-02T09:11:06.167600100Z",
     "start_time": "2024-02-02T09:11:05.649641600Z"
    }
   },
   "id": "ed29bdd7f2be2653",
   "execution_count": 83
  },
  {
   "cell_type": "markdown",
   "source": [
    "Now, I'd consider the data is clean, ready for training our model"
   ],
   "metadata": {
    "collapsed": false
   },
   "id": "d77bb40d10d8864"
  },
  {
   "cell_type": "code",
   "outputs": [
    {
     "data": {
      "text/plain": "      Tahun       brand  CC mesin gearbox_normalized  city   hwy\n0      2011        audi    1800.0                CVT   8.0  12.0\n4      2015         bmw    1500.0                 AT  12.0  16.0\n5      2017         bmw    1500.0                 AT  12.5  19.0\n6      1997         bmw    1800.0                 MT   7.0  11.5\n7      1990         bmw    1800.0                 MT   6.0  10.0\n...     ...         ...       ...                ...   ...   ...\n1118   2012        mini    1600.0                 AT   9.0  14.0\n1119   2001      toyota    3000.0                 AT   6.1   7.0\n1121   1980  mitsubishi    1300.0                 AT   6.0   9.0\n1129   1991         bmw    2500.0                 AT   5.0   7.0\n1132   1988      toyota    1500.0                 AT  10.0  16.0\n\n[549 rows x 6 columns]",
      "text/html": "<div>\n<style scoped>\n    .dataframe tbody tr th:only-of-type {\n        vertical-align: middle;\n    }\n\n    .dataframe tbody tr th {\n        vertical-align: top;\n    }\n\n    .dataframe thead th {\n        text-align: right;\n    }\n</style>\n<table border=\"1\" class=\"dataframe\">\n  <thead>\n    <tr style=\"text-align: right;\">\n      <th></th>\n      <th>Tahun</th>\n      <th>brand</th>\n      <th>CC mesin</th>\n      <th>gearbox_normalized</th>\n      <th>city</th>\n      <th>hwy</th>\n    </tr>\n  </thead>\n  <tbody>\n    <tr>\n      <th>0</th>\n      <td>2011</td>\n      <td>audi</td>\n      <td>1800.0</td>\n      <td>CVT</td>\n      <td>8.0</td>\n      <td>12.0</td>\n    </tr>\n    <tr>\n      <th>4</th>\n      <td>2015</td>\n      <td>bmw</td>\n      <td>1500.0</td>\n      <td>AT</td>\n      <td>12.0</td>\n      <td>16.0</td>\n    </tr>\n    <tr>\n      <th>5</th>\n      <td>2017</td>\n      <td>bmw</td>\n      <td>1500.0</td>\n      <td>AT</td>\n      <td>12.5</td>\n      <td>19.0</td>\n    </tr>\n    <tr>\n      <th>6</th>\n      <td>1997</td>\n      <td>bmw</td>\n      <td>1800.0</td>\n      <td>MT</td>\n      <td>7.0</td>\n      <td>11.5</td>\n    </tr>\n    <tr>\n      <th>7</th>\n      <td>1990</td>\n      <td>bmw</td>\n      <td>1800.0</td>\n      <td>MT</td>\n      <td>6.0</td>\n      <td>10.0</td>\n    </tr>\n    <tr>\n      <th>...</th>\n      <td>...</td>\n      <td>...</td>\n      <td>...</td>\n      <td>...</td>\n      <td>...</td>\n      <td>...</td>\n    </tr>\n    <tr>\n      <th>1118</th>\n      <td>2012</td>\n      <td>mini</td>\n      <td>1600.0</td>\n      <td>AT</td>\n      <td>9.0</td>\n      <td>14.0</td>\n    </tr>\n    <tr>\n      <th>1119</th>\n      <td>2001</td>\n      <td>toyota</td>\n      <td>3000.0</td>\n      <td>AT</td>\n      <td>6.1</td>\n      <td>7.0</td>\n    </tr>\n    <tr>\n      <th>1121</th>\n      <td>1980</td>\n      <td>mitsubishi</td>\n      <td>1300.0</td>\n      <td>AT</td>\n      <td>6.0</td>\n      <td>9.0</td>\n    </tr>\n    <tr>\n      <th>1129</th>\n      <td>1991</td>\n      <td>bmw</td>\n      <td>2500.0</td>\n      <td>AT</td>\n      <td>5.0</td>\n      <td>7.0</td>\n    </tr>\n    <tr>\n      <th>1132</th>\n      <td>1988</td>\n      <td>toyota</td>\n      <td>1500.0</td>\n      <td>AT</td>\n      <td>10.0</td>\n      <td>16.0</td>\n    </tr>\n  </tbody>\n</table>\n<p>549 rows × 6 columns</p>\n</div>"
     },
     "execution_count": 84,
     "metadata": {},
     "output_type": "execute_result"
    }
   ],
   "source": [
    "df = df.loc[:, ['Tahun', \"brand\", \"CC mesin\", \"gearbox_normalized\", \"city\", \"hwy\"]]\n",
    "df"
   ],
   "metadata": {
    "collapsed": false,
    "ExecuteTime": {
     "end_time": "2024-02-02T09:11:06.542661500Z",
     "start_time": "2024-02-02T09:11:05.991356800Z"
    }
   },
   "id": "5a9e62d4ecde7376",
   "execution_count": 84
  },
  {
   "cell_type": "markdown",
   "source": [
    "TODO add correlation matrix https://twitter.com/i/status/1747298352423936072"
   ],
   "metadata": {
    "collapsed": false
   },
   "id": "671a298cb2c46941"
  },
  {
   "cell_type": "markdown",
   "source": [
    "I intend to use an embedding layer for the brand and gearbox rather than one-hot encoded columns. So, first we need to create the index of all our brands and gearboxes"
   ],
   "metadata": {
    "collapsed": false
   },
   "id": "835c6e094f1896e"
  },
  {
   "cell_type": "code",
   "outputs": [
    {
     "name": "stdout",
     "output_type": "stream",
     "text": [
      "['audi' 'bmw' 'cadillac' 'chevrolet' 'daihatsu' 'datsun' 'ford' 'honda'\n",
      " 'hyundai' 'jaguar' 'jeep' 'kia' 'land' 'lexus' 'mazda' 'mercedes-benz'\n",
      " 'mg' 'mini' 'mitsubishi' 'morris' 'nissan' 'peugeot' 'proton' 'range'\n",
      " 'renault' 'subaru' 'suzuki' 'timor' 'toyota' 'volvo' 'vw' 'wuling'\n",
      " 'daewoo']\n",
      "['CVT' 'AT' 'MT']\n"
     ]
    }
   ],
   "source": [
    "all_brands_list = df[\"brand\"].unique()\n",
    "all_gearboxes_list = df[\"gearbox_normalized\"].unique()\n",
    "\n",
    "print(all_brands_list)\n",
    "print(all_gearboxes_list)"
   ],
   "metadata": {
    "collapsed": false,
    "ExecuteTime": {
     "end_time": "2024-02-02T09:11:06.940864600Z",
     "start_time": "2024-02-02T09:11:06.501311800Z"
    }
   },
   "id": "71dae654744c14d",
   "execution_count": 85
  },
  {
   "cell_type": "markdown",
   "source": [
    "And then we add the index to the dataframe"
   ],
   "metadata": {
    "collapsed": false
   },
   "id": "3c4fbc4bce6b8b0e"
  },
  {
   "cell_type": "code",
   "outputs": [
    {
     "data": {
      "text/plain": "      brand_idx       brand  gearbox_idx gearbox_normalized\n1118         17        mini            1                 AT\n1119         28      toyota            1                 AT\n1121         18  mitsubishi            1                 AT\n1129          1         bmw            1                 AT\n1132         28      toyota            1                 AT",
      "text/html": "<div>\n<style scoped>\n    .dataframe tbody tr th:only-of-type {\n        vertical-align: middle;\n    }\n\n    .dataframe tbody tr th {\n        vertical-align: top;\n    }\n\n    .dataframe thead th {\n        text-align: right;\n    }\n</style>\n<table border=\"1\" class=\"dataframe\">\n  <thead>\n    <tr style=\"text-align: right;\">\n      <th></th>\n      <th>brand_idx</th>\n      <th>brand</th>\n      <th>gearbox_idx</th>\n      <th>gearbox_normalized</th>\n    </tr>\n  </thead>\n  <tbody>\n    <tr>\n      <th>1118</th>\n      <td>17</td>\n      <td>mini</td>\n      <td>1</td>\n      <td>AT</td>\n    </tr>\n    <tr>\n      <th>1119</th>\n      <td>28</td>\n      <td>toyota</td>\n      <td>1</td>\n      <td>AT</td>\n    </tr>\n    <tr>\n      <th>1121</th>\n      <td>18</td>\n      <td>mitsubishi</td>\n      <td>1</td>\n      <td>AT</td>\n    </tr>\n    <tr>\n      <th>1129</th>\n      <td>1</td>\n      <td>bmw</td>\n      <td>1</td>\n      <td>AT</td>\n    </tr>\n    <tr>\n      <th>1132</th>\n      <td>28</td>\n      <td>toyota</td>\n      <td>1</td>\n      <td>AT</td>\n    </tr>\n  </tbody>\n</table>\n</div>"
     },
     "execution_count": 86,
     "metadata": {},
     "output_type": "execute_result"
    }
   ],
   "source": [
    "import numpy as np\n",
    "\n",
    "df['brand_idx'] = df['brand'].apply(lambda x: int(np.where(all_brands_list == x)[0]))\n",
    "df['gearbox_idx'] = df['gearbox_normalized'].apply(lambda x: int(np.where(all_gearboxes_list == x)[0]))\n",
    "\n",
    "df.loc[:, [\"brand_idx\", \"brand\", \"gearbox_idx\", \"gearbox_normalized\"]].tail()"
   ],
   "metadata": {
    "collapsed": false,
    "ExecuteTime": {
     "end_time": "2024-02-02T09:11:07.322807600Z",
     "start_time": "2024-02-02T09:11:06.931469300Z"
    }
   },
   "id": "9cb78e13fe05e808",
   "execution_count": 86
  },
  {
   "cell_type": "markdown",
   "source": [
    "Now we need to normalize the data, so they all lie between 0 and 1. For this, I used the scale between the minimum and maximum values, this is especially useful for model years where cars have only been founded very recently in the grand scheme of things"
   ],
   "metadata": {
    "collapsed": false
   },
   "id": "b3e3b75ec65ad1b9"
  },
  {
   "cell_type": "code",
   "outputs": [
    {
     "name": "stdout",
     "output_type": "stream",
     "text": [
      "849.0 7800.0\n",
      "1961 2022\n",
      "2.0 25.0\n"
     ]
    },
    {
     "data": {
      "text/plain": "   Tahun  CC mesin  year_normalized  cc_normalized\n0   2011    1800.0         0.819672       0.136815\n4   2015    1500.0         0.885246       0.093656\n5   2017    1500.0         0.918033       0.093656\n6   1997    1800.0         0.590164       0.136815\n7   1990    1800.0         0.475410       0.136815",
      "text/html": "<div>\n<style scoped>\n    .dataframe tbody tr th:only-of-type {\n        vertical-align: middle;\n    }\n\n    .dataframe tbody tr th {\n        vertical-align: top;\n    }\n\n    .dataframe thead th {\n        text-align: right;\n    }\n</style>\n<table border=\"1\" class=\"dataframe\">\n  <thead>\n    <tr style=\"text-align: right;\">\n      <th></th>\n      <th>Tahun</th>\n      <th>CC mesin</th>\n      <th>year_normalized</th>\n      <th>cc_normalized</th>\n    </tr>\n  </thead>\n  <tbody>\n    <tr>\n      <th>0</th>\n      <td>2011</td>\n      <td>1800.0</td>\n      <td>0.819672</td>\n      <td>0.136815</td>\n    </tr>\n    <tr>\n      <th>4</th>\n      <td>2015</td>\n      <td>1500.0</td>\n      <td>0.885246</td>\n      <td>0.093656</td>\n    </tr>\n    <tr>\n      <th>5</th>\n      <td>2017</td>\n      <td>1500.0</td>\n      <td>0.918033</td>\n      <td>0.093656</td>\n    </tr>\n    <tr>\n      <th>6</th>\n      <td>1997</td>\n      <td>1800.0</td>\n      <td>0.590164</td>\n      <td>0.136815</td>\n    </tr>\n    <tr>\n      <th>7</th>\n      <td>1990</td>\n      <td>1800.0</td>\n      <td>0.475410</td>\n      <td>0.136815</td>\n    </tr>\n  </tbody>\n</table>\n</div>"
     },
     "execution_count": 87,
     "metadata": {},
     "output_type": "execute_result"
    }
   ],
   "source": [
    "cc_max = df['CC mesin'].max()\n",
    "cc_min = df['CC mesin'].min()\n",
    "print(cc_min, cc_max)\n",
    "\n",
    "year_max = df['Tahun'].max()\n",
    "year_min = df['Tahun'].min()\n",
    "print(year_min, year_max)\n",
    "\n",
    "fuelcons_max = max(df[\"city\"].max(), df[\"hwy\"].max())\n",
    "fuelcons_min = min(df[\"city\"].min(), df[\"hwy\"].min())\n",
    "print(fuelcons_min, fuelcons_max)\n",
    "\n",
    "df['cc_normalized'] = (df['CC mesin'] - cc_min) / (cc_max - cc_min)\n",
    "df['year_normalized'] = (df['Tahun'] - year_min) / (year_max - year_min)\n",
    "\n",
    "df.loc[:, [\"Tahun\", \"CC mesin\", \"year_normalized\", \"cc_normalized\"]].head()"
   ],
   "metadata": {
    "collapsed": false,
    "ExecuteTime": {
     "end_time": "2024-02-02T09:11:07.527249400Z",
     "start_time": "2024-02-02T09:11:07.130093100Z"
    }
   },
   "id": "b5adfb3998a01b0c",
   "execution_count": 87
  },
  {
   "cell_type": "markdown",
   "source": [
    "Now let's prepare the trainable tensors"
   ],
   "metadata": {
    "collapsed": false
   },
   "id": "b7fbfd647517ce38"
  },
  {
   "cell_type": "code",
   "outputs": [
    {
     "data": {
      "text/plain": "tensor([[ 0.0000,  0.0000,  0.8197,  0.1368],\n        [ 1.0000,  1.0000,  0.8852,  0.0937],\n        [ 1.0000,  1.0000,  0.9180,  0.0937],\n        ...,\n        [18.0000,  1.0000,  0.3115,  0.0649],\n        [ 1.0000,  1.0000,  0.4918,  0.2375],\n        [28.0000,  1.0000,  0.4426,  0.0937]], dtype=torch.float64)"
     },
     "execution_count": 88,
     "metadata": {},
     "output_type": "execute_result"
    }
   ],
   "source": [
    "import torch\n",
    "from torch import nn\n",
    "\n",
    "X_columns = ['brand_idx', 'gearbox_idx'] + ['year_normalized', 'cc_normalized']\n",
    "X = torch.tensor(df[X_columns].values)\n",
    "y_city = torch.tensor(df[\"city\"].values)\n",
    "y_city = y_city.reshape(-1, 1)\n",
    "y_hwy = torch.tensor(df[\"hwy\"].values)\n",
    "y_hwy = y_hwy.reshape(-1, 1)\n",
    "X"
   ],
   "metadata": {
    "collapsed": false,
    "ExecuteTime": {
     "end_time": "2024-02-02T09:11:07.875655400Z",
     "start_time": "2024-02-02T09:11:07.495695100Z"
    }
   },
   "id": "87b5560cbdb26980",
   "execution_count": 88
  },
  {
   "cell_type": "markdown",
   "source": [
    "Now split them into train and test datasets"
   ],
   "metadata": {
    "collapsed": false
   },
   "id": "b7ae967f02a9cf8c"
  },
  {
   "cell_type": "code",
   "outputs": [],
   "source": [
    "from sklearn.model_selection import train_test_split\n",
    "\n",
    "X_train, X_test, y_city_train, y_city_test, y_hwy_train, y_hwy_test = train_test_split(X, y_city, y_hwy)"
   ],
   "metadata": {
    "collapsed": false,
    "ExecuteTime": {
     "end_time": "2024-02-02T09:11:08.280653800Z",
     "start_time": "2024-02-02T09:11:07.746895700Z"
    }
   },
   "id": "b4de2fda3cdaef69",
   "execution_count": 89
  },
  {
   "cell_type": "markdown",
   "source": [
    "Let's formulate the models. As previously mentioned, we will use an embedding layer for the brand and gearbox"
   ],
   "metadata": {
    "collapsed": false
   },
   "id": "c8d2281abec430cb"
  },
  {
   "cell_type": "code",
   "outputs": [
    {
     "name": "stdout",
     "output_type": "stream",
     "text": [
      "NeuralNetwork(\n",
      "  (flatten): Flatten(start_dim=1, end_dim=-1)\n",
      "  (brand_embedding): Embedding(33, 8)\n",
      "  (gearbox_embedding): Embedding(3, 8)\n",
      "  (city): Sequential(\n",
      "    (0): Linear(in_features=18, out_features=9, bias=True)\n",
      "    (1): ReLU()\n",
      "    (2): Linear(in_features=9, out_features=4, bias=True)\n",
      "    (3): ReLU()\n",
      "    (4): Linear(in_features=4, out_features=1, bias=True)\n",
      "  )\n",
      "  (hwy): Sequential(\n",
      "    (0): Linear(in_features=18, out_features=1, bias=True)\n",
      "    (1): Dropout(p=0.3, inplace=False)\n",
      "  )\n",
      ")\n"
     ]
    }
   ],
   "source": [
    "class NeuralNetwork(nn.Module):\n",
    "    def __init__(self, embedding_dim=8):\n",
    "        super().__init__()\n",
    "        self.flatten = nn.Flatten()\n",
    "        self.brand_embedding = nn.Embedding(len(all_brands_list), embedding_dim)\n",
    "        self.gearbox_embedding = nn.Embedding(len(all_gearboxes_list), embedding_dim)\n",
    "        self.input_tensor_dim = embedding_dim * 2 + 2  # brand embedding + gearbox embedding + city + hwy\n",
    "\n",
    "        self.city = nn.Sequential(\n",
    "            nn.Linear(self.input_tensor_dim, self.input_tensor_dim // 2),\n",
    "            nn.ReLU(),\n",
    "            nn.Linear(self.input_tensor_dim // 2, self.input_tensor_dim // 4),\n",
    "            nn.ReLU(),\n",
    "            nn.Linear(self.input_tensor_dim // 4, 1)\n",
    "        )\n",
    "        self.hwy = nn.Sequential(\n",
    "            nn.Linear(self.input_tensor_dim, 1),\n",
    "            nn.Dropout(p=0.3),  # prevent overfitting\n",
    "        )\n",
    "\n",
    "    def combine_features(self, x):\n",
    "        return torch.cat([\n",
    "            self.brand_embedding(x[:, 0].long()),\n",
    "            self.gearbox_embedding(x[:, 1].long()),\n",
    "            x[:, 2].unsqueeze(1),\n",
    "            x[:, 3].unsqueeze(1),\n",
    "        ], dim=1)\n",
    "\n",
    "    def forward(self, x):\n",
    "        x = self.combine_features(x)\n",
    "        return self.city(x), self.hwy(x)\n",
    "\n",
    "\n",
    "device = 'cpu'  # this is a simple model\n",
    "model = NeuralNetwork().to(device)\n",
    "print(model)"
   ],
   "metadata": {
    "collapsed": false,
    "ExecuteTime": {
     "end_time": "2024-02-02T09:11:08.731308600Z",
     "start_time": "2024-02-02T09:11:08.256880100Z"
    }
   },
   "id": "4f0a5cf7bb990383",
   "execution_count": 90
  },
  {
   "cell_type": "markdown",
   "source": [
    "Let's train them"
   ],
   "metadata": {
    "collapsed": false
   },
   "id": "e1262ca0272a7d3"
  },
  {
   "cell_type": "code",
   "outputs": [
    {
     "name": "stdout",
     "output_type": "stream",
     "text": [
      "0 tensor(75.2873, grad_fn=<MseLossBackward0>) tensor(175.1271, grad_fn=<MseLossBackward0>)\n",
      "1 tensor(43.3939, grad_fn=<MseLossBackward0>) tensor(155.3586, grad_fn=<MseLossBackward0>)\n",
      "2 tensor(18.5766, grad_fn=<MseLossBackward0>) tensor(132.8461, grad_fn=<MseLossBackward0>)\n",
      "3 tensor(59.1818, grad_fn=<MseLossBackward0>) tensor(108.9806, grad_fn=<MseLossBackward0>)\n",
      "4 tensor(18.9789, grad_fn=<MseLossBackward0>) tensor(91.0008, grad_fn=<MseLossBackward0>)\n",
      "5 tensor(8.9608, grad_fn=<MseLossBackward0>) tensor(74.7580, grad_fn=<MseLossBackward0>)\n",
      "6 tensor(15.8601, grad_fn=<MseLossBackward0>) tensor(59.1951, grad_fn=<MseLossBackward0>)\n",
      "7 tensor(21.1440, grad_fn=<MseLossBackward0>) tensor(44.7387, grad_fn=<MseLossBackward0>)\n",
      "8 tensor(21.7655, grad_fn=<MseLossBackward0>) tensor(32.8741, grad_fn=<MseLossBackward0>)\n",
      "9 tensor(19.0378, grad_fn=<MseLossBackward0>) tensor(24.5135, grad_fn=<MseLossBackward0>)\n",
      "10 tensor(15.3250, grad_fn=<MseLossBackward0>) tensor(19.3837, grad_fn=<MseLossBackward0>)\n",
      "11 tensor(12.3578, grad_fn=<MseLossBackward0>) tensor(16.5873, grad_fn=<MseLossBackward0>)\n",
      "12 tensor(10.3367, grad_fn=<MseLossBackward0>) tensor(15.2251, grad_fn=<MseLossBackward0>)\n",
      "13 tensor(8.7559, grad_fn=<MseLossBackward0>) tensor(15.1009, grad_fn=<MseLossBackward0>)\n",
      "14 tensor(7.6060, grad_fn=<MseLossBackward0>) tensor(16.5514, grad_fn=<MseLossBackward0>)\n",
      "15 tensor(7.1654, grad_fn=<MseLossBackward0>) tensor(19.8559, grad_fn=<MseLossBackward0>)\n",
      "16 tensor(7.3953, grad_fn=<MseLossBackward0>) tensor(24.9277, grad_fn=<MseLossBackward0>)\n",
      "17 tensor(7.8985, grad_fn=<MseLossBackward0>) tensor(31.0538, grad_fn=<MseLossBackward0>)\n",
      "18 tensor(8.2245, grad_fn=<MseLossBackward0>) tensor(37.1981, grad_fn=<MseLossBackward0>)\n",
      "19 tensor(8.2412, grad_fn=<MseLossBackward0>) tensor(42.2870, grad_fn=<MseLossBackward0>)\n",
      "20 tensor(7.9973, grad_fn=<MseLossBackward0>) tensor(45.6273, grad_fn=<MseLossBackward0>)\n",
      "21 tensor(7.5672, grad_fn=<MseLossBackward0>) tensor(46.8223, grad_fn=<MseLossBackward0>)\n",
      "22 tensor(7.0898, grad_fn=<MseLossBackward0>) tensor(46.0740, grad_fn=<MseLossBackward0>)\n",
      "23 tensor(6.7143, grad_fn=<MseLossBackward0>) tensor(43.8488, grad_fn=<MseLossBackward0>)\n",
      "24 tensor(6.4411, grad_fn=<MseLossBackward0>) tensor(40.7059, grad_fn=<MseLossBackward0>)\n",
      "25 tensor(6.1975, grad_fn=<MseLossBackward0>) tensor(37.0673, grad_fn=<MseLossBackward0>)\n",
      "26 tensor(5.9274, grad_fn=<MseLossBackward0>) tensor(33.4600, grad_fn=<MseLossBackward0>)\n",
      "27 tensor(5.6855, grad_fn=<MseLossBackward0>) tensor(29.9687, grad_fn=<MseLossBackward0>)\n",
      "28 tensor(5.5505, grad_fn=<MseLossBackward0>) tensor(26.9057, grad_fn=<MseLossBackward0>)\n",
      "29 tensor(5.5602, grad_fn=<MseLossBackward0>) tensor(24.3361, grad_fn=<MseLossBackward0>)\n",
      "30 tensor(5.6630, grad_fn=<MseLossBackward0>) tensor(22.4650, grad_fn=<MseLossBackward0>)\n",
      "31 tensor(5.7669, grad_fn=<MseLossBackward0>) tensor(21.3374, grad_fn=<MseLossBackward0>)\n",
      "32 tensor(5.8194, grad_fn=<MseLossBackward0>) tensor(20.9580, grad_fn=<MseLossBackward0>)\n",
      "33 tensor(5.8163, grad_fn=<MseLossBackward0>) tensor(21.1806, grad_fn=<MseLossBackward0>)\n",
      "34 tensor(5.7939, grad_fn=<MseLossBackward0>) tensor(21.8943, grad_fn=<MseLossBackward0>)\n",
      "35 tensor(5.8040, grad_fn=<MseLossBackward0>) tensor(23.1224, grad_fn=<MseLossBackward0>)\n",
      "36 tensor(5.8175, grad_fn=<MseLossBackward0>) tensor(24.8691, grad_fn=<MseLossBackward0>)\n",
      "37 tensor(5.7799, grad_fn=<MseLossBackward0>) tensor(26.9685, grad_fn=<MseLossBackward0>)\n",
      "38 tensor(5.7523, grad_fn=<MseLossBackward0>) tensor(29.1836, grad_fn=<MseLossBackward0>)\n",
      "39 tensor(5.7626, grad_fn=<MseLossBackward0>) tensor(31.2112, grad_fn=<MseLossBackward0>)\n",
      "40 tensor(5.7423, grad_fn=<MseLossBackward0>) tensor(32.8671, grad_fn=<MseLossBackward0>)\n",
      "41 tensor(5.7104, grad_fn=<MseLossBackward0>) tensor(33.9326, grad_fn=<MseLossBackward0>)\n",
      "42 tensor(5.6985, grad_fn=<MseLossBackward0>) tensor(34.4970, grad_fn=<MseLossBackward0>)\n",
      "43 tensor(5.6376, grad_fn=<MseLossBackward0>) tensor(34.5026, grad_fn=<MseLossBackward0>)\n",
      "44 tensor(5.5531, grad_fn=<MseLossBackward0>) tensor(34.1464, grad_fn=<MseLossBackward0>)\n",
      "45 tensor(5.4816, grad_fn=<MseLossBackward0>) tensor(33.3781, grad_fn=<MseLossBackward0>)\n",
      "46 tensor(5.3975, grad_fn=<MseLossBackward0>) tensor(32.2127, grad_fn=<MseLossBackward0>)\n",
      "47 tensor(5.3339, grad_fn=<MseLossBackward0>) tensor(30.7619, grad_fn=<MseLossBackward0>)\n",
      "48 tensor(5.2891, grad_fn=<MseLossBackward0>) tensor(29.2768, grad_fn=<MseLossBackward0>)\n",
      "49 tensor(5.2163, grad_fn=<MseLossBackward0>) tensor(27.9394, grad_fn=<MseLossBackward0>)\n",
      "50 tensor(5.1562, grad_fn=<MseLossBackward0>) tensor(26.8283, grad_fn=<MseLossBackward0>)\n",
      "51 tensor(5.0986, grad_fn=<MseLossBackward0>) tensor(25.9465, grad_fn=<MseLossBackward0>)\n",
      "52 tensor(5.0302, grad_fn=<MseLossBackward0>) tensor(25.3940, grad_fn=<MseLossBackward0>)\n",
      "53 tensor(4.9955, grad_fn=<MseLossBackward0>) tensor(25.2201, grad_fn=<MseLossBackward0>)\n",
      "54 tensor(4.9388, grad_fn=<MseLossBackward0>) tensor(25.4261, grad_fn=<MseLossBackward0>)\n",
      "55 tensor(4.9132, grad_fn=<MseLossBackward0>) tensor(25.9389, grad_fn=<MseLossBackward0>)\n",
      "56 tensor(4.8871, grad_fn=<MseLossBackward0>) tensor(26.7231, grad_fn=<MseLossBackward0>)\n",
      "57 tensor(4.8757, grad_fn=<MseLossBackward0>) tensor(27.5418, grad_fn=<MseLossBackward0>)\n",
      "58 tensor(4.8390, grad_fn=<MseLossBackward0>) tensor(28.4760, grad_fn=<MseLossBackward0>)\n",
      "59 tensor(4.8174, grad_fn=<MseLossBackward0>) tensor(29.2854, grad_fn=<MseLossBackward0>)\n",
      "60 tensor(4.7795, grad_fn=<MseLossBackward0>) tensor(29.8945, grad_fn=<MseLossBackward0>)\n",
      "61 tensor(4.7618, grad_fn=<MseLossBackward0>) tensor(30.1359, grad_fn=<MseLossBackward0>)\n",
      "62 tensor(4.7208, grad_fn=<MseLossBackward0>) tensor(30.0689, grad_fn=<MseLossBackward0>)\n",
      "63 tensor(4.6950, grad_fn=<MseLossBackward0>) tensor(29.7633, grad_fn=<MseLossBackward0>)\n",
      "64 tensor(4.6500, grad_fn=<MseLossBackward0>) tensor(29.2461, grad_fn=<MseLossBackward0>)\n",
      "65 tensor(4.5978, grad_fn=<MseLossBackward0>) tensor(28.7029, grad_fn=<MseLossBackward0>)\n",
      "66 tensor(4.5497, grad_fn=<MseLossBackward0>) tensor(28.0171, grad_fn=<MseLossBackward0>)\n",
      "67 tensor(4.5078, grad_fn=<MseLossBackward0>) tensor(27.2954, grad_fn=<MseLossBackward0>)\n",
      "68 tensor(4.4385, grad_fn=<MseLossBackward0>) tensor(26.7696, grad_fn=<MseLossBackward0>)\n",
      "69 tensor(4.3830, grad_fn=<MseLossBackward0>) tensor(26.4367, grad_fn=<MseLossBackward0>)\n",
      "70 tensor(4.3439, grad_fn=<MseLossBackward0>) tensor(26.3235, grad_fn=<MseLossBackward0>)\n",
      "71 tensor(4.3018, grad_fn=<MseLossBackward0>) tensor(26.4901, grad_fn=<MseLossBackward0>)\n",
      "72 tensor(4.2711, grad_fn=<MseLossBackward0>) tensor(26.7322, grad_fn=<MseLossBackward0>)\n",
      "73 tensor(4.2326, grad_fn=<MseLossBackward0>) tensor(27.1219, grad_fn=<MseLossBackward0>)\n",
      "74 tensor(4.2139, grad_fn=<MseLossBackward0>) tensor(27.5100, grad_fn=<MseLossBackward0>)\n",
      "75 tensor(4.2145, grad_fn=<MseLossBackward0>) tensor(27.8801, grad_fn=<MseLossBackward0>)\n",
      "76 tensor(4.2173, grad_fn=<MseLossBackward0>) tensor(28.1460, grad_fn=<MseLossBackward0>)\n",
      "77 tensor(4.2327, grad_fn=<MseLossBackward0>) tensor(28.3833, grad_fn=<MseLossBackward0>)\n",
      "78 tensor(4.2290, grad_fn=<MseLossBackward0>) tensor(28.3937, grad_fn=<MseLossBackward0>)\n",
      "79 tensor(4.2346, grad_fn=<MseLossBackward0>) tensor(28.3220, grad_fn=<MseLossBackward0>)\n",
      "80 tensor(4.2321, grad_fn=<MseLossBackward0>) tensor(28.1714, grad_fn=<MseLossBackward0>)\n",
      "81 tensor(4.2307, grad_fn=<MseLossBackward0>) tensor(27.8652, grad_fn=<MseLossBackward0>)\n",
      "82 tensor(4.2192, grad_fn=<MseLossBackward0>) tensor(27.7674, grad_fn=<MseLossBackward0>)\n",
      "83 tensor(4.1956, grad_fn=<MseLossBackward0>) tensor(27.6795, grad_fn=<MseLossBackward0>)\n",
      "84 tensor(4.1746, grad_fn=<MseLossBackward0>) tensor(27.6432, grad_fn=<MseLossBackward0>)\n",
      "85 tensor(4.1531, grad_fn=<MseLossBackward0>) tensor(27.6304, grad_fn=<MseLossBackward0>)\n",
      "86 tensor(4.1330, grad_fn=<MseLossBackward0>) tensor(27.5563, grad_fn=<MseLossBackward0>)\n",
      "87 tensor(4.1062, grad_fn=<MseLossBackward0>) tensor(27.4320, grad_fn=<MseLossBackward0>)\n",
      "88 tensor(4.0811, grad_fn=<MseLossBackward0>) tensor(27.2923, grad_fn=<MseLossBackward0>)\n",
      "89 tensor(4.0540, grad_fn=<MseLossBackward0>) tensor(27.2233, grad_fn=<MseLossBackward0>)\n",
      "90 tensor(4.0246, grad_fn=<MseLossBackward0>) tensor(27.0420, grad_fn=<MseLossBackward0>)\n",
      "91 tensor(3.9991, grad_fn=<MseLossBackward0>) tensor(27.0436, grad_fn=<MseLossBackward0>)\n",
      "92 tensor(3.9801, grad_fn=<MseLossBackward0>) tensor(26.9962, grad_fn=<MseLossBackward0>)\n",
      "93 tensor(3.9634, grad_fn=<MseLossBackward0>) tensor(27.0597, grad_fn=<MseLossBackward0>)\n",
      "94 tensor(3.9564, grad_fn=<MseLossBackward0>) tensor(27.1459, grad_fn=<MseLossBackward0>)\n",
      "95 tensor(3.9609, grad_fn=<MseLossBackward0>) tensor(27.2529, grad_fn=<MseLossBackward0>)\n",
      "96 tensor(3.9723, grad_fn=<MseLossBackward0>) tensor(27.2826, grad_fn=<MseLossBackward0>)\n",
      "97 tensor(3.9746, grad_fn=<MseLossBackward0>) tensor(27.2705, grad_fn=<MseLossBackward0>)\n",
      "98 tensor(3.9875, grad_fn=<MseLossBackward0>) tensor(27.0991, grad_fn=<MseLossBackward0>)\n",
      "99 tensor(4.0076, grad_fn=<MseLossBackward0>) tensor(27.0222, grad_fn=<MseLossBackward0>)\n",
      "100 tensor(4.0468, grad_fn=<MseLossBackward0>) tensor(26.9733, grad_fn=<MseLossBackward0>)\n",
      "101 tensor(4.0772, grad_fn=<MseLossBackward0>) tensor(27.1218, grad_fn=<MseLossBackward0>)\n",
      "102 tensor(4.1230, grad_fn=<MseLossBackward0>) tensor(27.2735, grad_fn=<MseLossBackward0>)\n",
      "103 tensor(4.0827, grad_fn=<MseLossBackward0>) tensor(27.5083, grad_fn=<MseLossBackward0>)\n",
      "104 tensor(4.0047, grad_fn=<MseLossBackward0>) tensor(27.5974, grad_fn=<MseLossBackward0>)\n",
      "105 tensor(4.0216, grad_fn=<MseLossBackward0>) tensor(27.6584, grad_fn=<MseLossBackward0>)\n",
      "106 tensor(4.0441, grad_fn=<MseLossBackward0>) tensor(27.7195, grad_fn=<MseLossBackward0>)\n",
      "107 tensor(3.9702, grad_fn=<MseLossBackward0>) tensor(27.4808, grad_fn=<MseLossBackward0>)\n",
      "108 tensor(3.9335, grad_fn=<MseLossBackward0>) tensor(27.4602, grad_fn=<MseLossBackward0>)\n",
      "109 tensor(3.9538, grad_fn=<MseLossBackward0>) tensor(27.3325, grad_fn=<MseLossBackward0>)\n",
      "110 tensor(3.9066, grad_fn=<MseLossBackward0>) tensor(27.0748, grad_fn=<MseLossBackward0>)\n",
      "111 tensor(3.8975, grad_fn=<MseLossBackward0>) tensor(26.9277, grad_fn=<MseLossBackward0>)\n",
      "112 tensor(3.9387, grad_fn=<MseLossBackward0>) tensor(26.8580, grad_fn=<MseLossBackward0>)\n",
      "113 tensor(3.9347, grad_fn=<MseLossBackward0>) tensor(26.6651, grad_fn=<MseLossBackward0>)\n",
      "114 tensor(3.9158, grad_fn=<MseLossBackward0>) tensor(26.6211, grad_fn=<MseLossBackward0>)\n",
      "115 tensor(3.9401, grad_fn=<MseLossBackward0>) tensor(26.7792, grad_fn=<MseLossBackward0>)\n",
      "116 tensor(3.9430, grad_fn=<MseLossBackward0>) tensor(26.9659, grad_fn=<MseLossBackward0>)\n",
      "117 tensor(3.9315, grad_fn=<MseLossBackward0>) tensor(27.2496, grad_fn=<MseLossBackward0>)\n",
      "118 tensor(3.9543, grad_fn=<MseLossBackward0>) tensor(27.4317, grad_fn=<MseLossBackward0>)\n",
      "119 tensor(3.9742, grad_fn=<MseLossBackward0>) tensor(27.4746, grad_fn=<MseLossBackward0>)\n",
      "120 tensor(3.9564, grad_fn=<MseLossBackward0>) tensor(27.5384, grad_fn=<MseLossBackward0>)\n",
      "121 tensor(3.9385, grad_fn=<MseLossBackward0>) tensor(27.5119, grad_fn=<MseLossBackward0>)\n",
      "122 tensor(3.9261, grad_fn=<MseLossBackward0>) tensor(27.3059, grad_fn=<MseLossBackward0>)\n",
      "123 tensor(3.8966, grad_fn=<MseLossBackward0>) tensor(27.0959, grad_fn=<MseLossBackward0>)\n",
      "124 tensor(3.8594, grad_fn=<MseLossBackward0>) tensor(26.9447, grad_fn=<MseLossBackward0>)\n",
      "125 tensor(3.8437, grad_fn=<MseLossBackward0>) tensor(26.8024, grad_fn=<MseLossBackward0>)\n",
      "126 tensor(3.8301, grad_fn=<MseLossBackward0>) tensor(26.7598, grad_fn=<MseLossBackward0>)\n",
      "127 tensor(3.7918, grad_fn=<MseLossBackward0>) tensor(26.7491, grad_fn=<MseLossBackward0>)\n",
      "128 tensor(3.7767, grad_fn=<MseLossBackward0>) tensor(26.7377, grad_fn=<MseLossBackward0>)\n",
      "129 tensor(3.7796, grad_fn=<MseLossBackward0>) tensor(26.5748, grad_fn=<MseLossBackward0>)\n",
      "130 tensor(3.7740, grad_fn=<MseLossBackward0>) tensor(26.5458, grad_fn=<MseLossBackward0>)\n",
      "131 tensor(3.7613, grad_fn=<MseLossBackward0>) tensor(26.6227, grad_fn=<MseLossBackward0>)\n",
      "132 tensor(3.7496, grad_fn=<MseLossBackward0>) tensor(26.7687, grad_fn=<MseLossBackward0>)\n",
      "133 tensor(3.7447, grad_fn=<MseLossBackward0>) tensor(26.7752, grad_fn=<MseLossBackward0>)\n",
      "134 tensor(3.7604, grad_fn=<MseLossBackward0>) tensor(26.7962, grad_fn=<MseLossBackward0>)\n",
      "135 tensor(3.7588, grad_fn=<MseLossBackward0>) tensor(26.7057, grad_fn=<MseLossBackward0>)\n",
      "136 tensor(3.7614, grad_fn=<MseLossBackward0>) tensor(26.5007, grad_fn=<MseLossBackward0>)\n",
      "137 tensor(3.7642, grad_fn=<MseLossBackward0>) tensor(26.4218, grad_fn=<MseLossBackward0>)\n",
      "138 tensor(3.7746, grad_fn=<MseLossBackward0>) tensor(26.4481, grad_fn=<MseLossBackward0>)\n",
      "139 tensor(3.7953, grad_fn=<MseLossBackward0>) tensor(26.4743, grad_fn=<MseLossBackward0>)\n",
      "140 tensor(3.8239, grad_fn=<MseLossBackward0>) tensor(26.6610, grad_fn=<MseLossBackward0>)\n",
      "141 tensor(3.8357, grad_fn=<MseLossBackward0>) tensor(27.0008, grad_fn=<MseLossBackward0>)\n",
      "142 tensor(3.8384, grad_fn=<MseLossBackward0>) tensor(27.0253, grad_fn=<MseLossBackward0>)\n",
      "143 tensor(3.8410, grad_fn=<MseLossBackward0>) tensor(26.9929, grad_fn=<MseLossBackward0>)\n",
      "144 tensor(3.8282, grad_fn=<MseLossBackward0>) tensor(26.8921, grad_fn=<MseLossBackward0>)\n",
      "145 tensor(3.8111, grad_fn=<MseLossBackward0>) tensor(26.8850, grad_fn=<MseLossBackward0>)\n",
      "146 tensor(3.7752, grad_fn=<MseLossBackward0>) tensor(26.9404, grad_fn=<MseLossBackward0>)\n",
      "147 tensor(3.7599, grad_fn=<MseLossBackward0>) tensor(27.1838, grad_fn=<MseLossBackward0>)\n",
      "148 tensor(3.7259, grad_fn=<MseLossBackward0>) tensor(27.1285, grad_fn=<MseLossBackward0>)\n",
      "149 tensor(3.7343, grad_fn=<MseLossBackward0>) tensor(27.3022, grad_fn=<MseLossBackward0>)\n",
      "150 tensor(3.7099, grad_fn=<MseLossBackward0>) tensor(27.3692, grad_fn=<MseLossBackward0>)\n",
      "151 tensor(3.7280, grad_fn=<MseLossBackward0>) tensor(27.4188, grad_fn=<MseLossBackward0>)\n",
      "152 tensor(3.7280, grad_fn=<MseLossBackward0>) tensor(27.2000, grad_fn=<MseLossBackward0>)\n",
      "153 tensor(3.7535, grad_fn=<MseLossBackward0>) tensor(26.9597, grad_fn=<MseLossBackward0>)\n",
      "154 tensor(3.7916, grad_fn=<MseLossBackward0>) tensor(26.7001, grad_fn=<MseLossBackward0>)\n",
      "155 tensor(3.8342, grad_fn=<MseLossBackward0>) tensor(26.3638, grad_fn=<MseLossBackward0>)\n",
      "156 tensor(3.8701, grad_fn=<MseLossBackward0>) tensor(26.0549, grad_fn=<MseLossBackward0>)\n",
      "157 tensor(3.8965, grad_fn=<MseLossBackward0>) tensor(25.9558, grad_fn=<MseLossBackward0>)\n",
      "158 tensor(3.9044, grad_fn=<MseLossBackward0>) tensor(26.3028, grad_fn=<MseLossBackward0>)\n",
      "159 tensor(3.9217, grad_fn=<MseLossBackward0>) tensor(26.5730, grad_fn=<MseLossBackward0>)\n",
      "160 tensor(3.8758, grad_fn=<MseLossBackward0>) tensor(26.9000, grad_fn=<MseLossBackward0>)\n",
      "161 tensor(3.8420, grad_fn=<MseLossBackward0>) tensor(27.1846, grad_fn=<MseLossBackward0>)\n",
      "162 tensor(3.7910, grad_fn=<MseLossBackward0>) tensor(27.2983, grad_fn=<MseLossBackward0>)\n",
      "163 tensor(3.7447, grad_fn=<MseLossBackward0>) tensor(27.3707, grad_fn=<MseLossBackward0>)\n",
      "164 tensor(3.7134, grad_fn=<MseLossBackward0>) tensor(27.1671, grad_fn=<MseLossBackward0>)\n",
      "165 tensor(3.6950, grad_fn=<MseLossBackward0>) tensor(26.9906, grad_fn=<MseLossBackward0>)\n",
      "166 tensor(3.6879, grad_fn=<MseLossBackward0>) tensor(26.8100, grad_fn=<MseLossBackward0>)\n",
      "167 tensor(3.6913, grad_fn=<MseLossBackward0>) tensor(26.6593, grad_fn=<MseLossBackward0>)\n",
      "168 tensor(3.6673, grad_fn=<MseLossBackward0>) tensor(26.5093, grad_fn=<MseLossBackward0>)\n",
      "169 tensor(3.6737, grad_fn=<MseLossBackward0>) tensor(26.6874, grad_fn=<MseLossBackward0>)\n",
      "170 tensor(3.6538, grad_fn=<MseLossBackward0>) tensor(26.9342, grad_fn=<MseLossBackward0>)\n",
      "171 tensor(3.6660, grad_fn=<MseLossBackward0>) tensor(27.2246, grad_fn=<MseLossBackward0>)\n",
      "172 tensor(3.6795, grad_fn=<MseLossBackward0>) tensor(27.6233, grad_fn=<MseLossBackward0>)\n",
      "173 tensor(3.7125, grad_fn=<MseLossBackward0>) tensor(27.7214, grad_fn=<MseLossBackward0>)\n",
      "174 tensor(3.7398, grad_fn=<MseLossBackward0>) tensor(27.7187, grad_fn=<MseLossBackward0>)\n",
      "175 tensor(3.7726, grad_fn=<MseLossBackward0>) tensor(27.4619, grad_fn=<MseLossBackward0>)\n",
      "176 tensor(3.7997, grad_fn=<MseLossBackward0>) tensor(27.2101, grad_fn=<MseLossBackward0>)\n",
      "177 tensor(3.8040, grad_fn=<MseLossBackward0>) tensor(26.9222, grad_fn=<MseLossBackward0>)\n",
      "178 tensor(3.8136, grad_fn=<MseLossBackward0>) tensor(26.8124, grad_fn=<MseLossBackward0>)\n",
      "179 tensor(3.7801, grad_fn=<MseLossBackward0>) tensor(26.6835, grad_fn=<MseLossBackward0>)\n",
      "180 tensor(3.7470, grad_fn=<MseLossBackward0>) tensor(26.6748, grad_fn=<MseLossBackward0>)\n",
      "181 tensor(3.7117, grad_fn=<MseLossBackward0>) tensor(26.6677, grad_fn=<MseLossBackward0>)\n",
      "182 tensor(3.6817, grad_fn=<MseLossBackward0>) tensor(26.7576, grad_fn=<MseLossBackward0>)\n",
      "183 tensor(3.6746, grad_fn=<MseLossBackward0>) tensor(26.8294, grad_fn=<MseLossBackward0>)\n",
      "184 tensor(3.6761, grad_fn=<MseLossBackward0>) tensor(26.9954, grad_fn=<MseLossBackward0>)\n",
      "185 tensor(3.6860, grad_fn=<MseLossBackward0>) tensor(27.0239, grad_fn=<MseLossBackward0>)\n",
      "186 tensor(3.7095, grad_fn=<MseLossBackward0>) tensor(27.0575, grad_fn=<MseLossBackward0>)\n",
      "187 tensor(3.7409, grad_fn=<MseLossBackward0>) tensor(27.0539, grad_fn=<MseLossBackward0>)\n",
      "188 tensor(3.7804, grad_fn=<MseLossBackward0>) tensor(26.9150, grad_fn=<MseLossBackward0>)\n",
      "189 tensor(3.7918, grad_fn=<MseLossBackward0>) tensor(26.9010, grad_fn=<MseLossBackward0>)\n",
      "190 tensor(3.8026, grad_fn=<MseLossBackward0>) tensor(26.8534, grad_fn=<MseLossBackward0>)\n",
      "191 tensor(3.8105, grad_fn=<MseLossBackward0>) tensor(26.8270, grad_fn=<MseLossBackward0>)\n",
      "192 tensor(3.8249, grad_fn=<MseLossBackward0>) tensor(26.5632, grad_fn=<MseLossBackward0>)\n",
      "193 tensor(3.8954, grad_fn=<MseLossBackward0>) tensor(26.8510, grad_fn=<MseLossBackward0>)\n",
      "194 tensor(3.9724, grad_fn=<MseLossBackward0>) tensor(26.7079, grad_fn=<MseLossBackward0>)\n",
      "195 tensor(4.0351, grad_fn=<MseLossBackward0>) tensor(27.1009, grad_fn=<MseLossBackward0>)\n",
      "196 tensor(3.8477, grad_fn=<MseLossBackward0>) tensor(26.8539, grad_fn=<MseLossBackward0>)\n",
      "197 tensor(3.6764, grad_fn=<MseLossBackward0>) tensor(26.9968, grad_fn=<MseLossBackward0>)\n",
      "198 tensor(3.7357, grad_fn=<MseLossBackward0>) tensor(27.0589, grad_fn=<MseLossBackward0>)\n",
      "199 tensor(3.8334, grad_fn=<MseLossBackward0>) tensor(27.0641, grad_fn=<MseLossBackward0>)\n"
     ]
    }
   ],
   "source": [
    "loss_fn = nn.MSELoss()\n",
    "optimizer = torch.optim.Adam(model.parameters(), lr=0.1, weight_decay=0.1)\n",
    "\n",
    "X_train = X_train.to(device, dtype=torch.float32)\n",
    "y_city_train = y_city_train.to(device, dtype=torch.float32)\n",
    "y_hwy_train = y_hwy_train.to(device, dtype=torch.float32)\n",
    "X_test = X_test.to(device, dtype=torch.float32)\n",
    "y_city_test = y_city_test.to(device, dtype=torch.float32)\n",
    "y_hwy_test = y_hwy_test.to(device, dtype=torch.float32)\n",
    "\n",
    "for epoch in range(200):\n",
    "    model.train()  # training mode\n",
    "    y_city_train_pred, y_hwy_train_pred = model(X_train)\n",
    "    loss_city = loss_fn(y_city_train_pred, y_city_train)\n",
    "    loss_hwy = loss_fn(y_hwy_train_pred, y_hwy_train)\n",
    "\n",
    "    # backward pass\n",
    "    optimizer.zero_grad()\n",
    "    loss = loss_city + loss_hwy\n",
    "    loss.backward()\n",
    "    optimizer.step()  # update weights\n",
    "\n",
    "    # evaluate\n",
    "    model.eval()\n",
    "    y_city_test_pred, y_hwy_test_pred = model(X_test)\n",
    "    print(epoch, loss_fn(y_city_test_pred, y_city_test), loss_fn(y_hwy_test_pred, y_hwy_test))"
   ],
   "metadata": {
    "collapsed": false,
    "ExecuteTime": {
     "end_time": "2024-02-02T09:11:10.158009900Z",
     "start_time": "2024-02-02T09:11:08.653343400Z"
    }
   },
   "id": "dcb533ea3d61ebd1",
   "execution_count": 91
  },
  {
   "cell_type": "markdown",
   "source": [
    "Just for fun, let's try to make a prediction, just put anything as instructed"
   ],
   "metadata": {
    "collapsed": false
   },
   "id": "e3f0285045728629"
  },
  {
   "cell_type": "code",
   "outputs": [
    {
     "data": {
      "text/plain": "      Tahun       brand  CC mesin gearbox_normalized  city   hwy  brand_idx  \\\n545  2001.0      toyota    3000.0                 AT   6.1   7.0         28   \n546  1980.0  mitsubishi    1300.0                 AT   6.0   9.0         18   \n547  1991.0         bmw    2500.0                 AT   5.0   7.0          1   \n548  1988.0      toyota    1500.0                 AT  10.0  16.0         28   \n549     NaN         bmw       NaN                CVT   NaN   NaN          1   \n\n     gearbox_idx  cc_normalized  year_normalized  \n545            1       0.309452         0.655738  \n546            1       0.064883         0.311475  \n547            1       0.237520         0.491803  \n548            1       0.093656         0.442623  \n549            0       0.007337         0.672131  ",
      "text/html": "<div>\n<style scoped>\n    .dataframe tbody tr th:only-of-type {\n        vertical-align: middle;\n    }\n\n    .dataframe tbody tr th {\n        vertical-align: top;\n    }\n\n    .dataframe thead th {\n        text-align: right;\n    }\n</style>\n<table border=\"1\" class=\"dataframe\">\n  <thead>\n    <tr style=\"text-align: right;\">\n      <th></th>\n      <th>Tahun</th>\n      <th>brand</th>\n      <th>CC mesin</th>\n      <th>gearbox_normalized</th>\n      <th>city</th>\n      <th>hwy</th>\n      <th>brand_idx</th>\n      <th>gearbox_idx</th>\n      <th>cc_normalized</th>\n      <th>year_normalized</th>\n    </tr>\n  </thead>\n  <tbody>\n    <tr>\n      <th>545</th>\n      <td>2001.0</td>\n      <td>toyota</td>\n      <td>3000.0</td>\n      <td>AT</td>\n      <td>6.1</td>\n      <td>7.0</td>\n      <td>28</td>\n      <td>1</td>\n      <td>0.309452</td>\n      <td>0.655738</td>\n    </tr>\n    <tr>\n      <th>546</th>\n      <td>1980.0</td>\n      <td>mitsubishi</td>\n      <td>1300.0</td>\n      <td>AT</td>\n      <td>6.0</td>\n      <td>9.0</td>\n      <td>18</td>\n      <td>1</td>\n      <td>0.064883</td>\n      <td>0.311475</td>\n    </tr>\n    <tr>\n      <th>547</th>\n      <td>1991.0</td>\n      <td>bmw</td>\n      <td>2500.0</td>\n      <td>AT</td>\n      <td>5.0</td>\n      <td>7.0</td>\n      <td>1</td>\n      <td>1</td>\n      <td>0.237520</td>\n      <td>0.491803</td>\n    </tr>\n    <tr>\n      <th>548</th>\n      <td>1988.0</td>\n      <td>toyota</td>\n      <td>1500.0</td>\n      <td>AT</td>\n      <td>10.0</td>\n      <td>16.0</td>\n      <td>28</td>\n      <td>1</td>\n      <td>0.093656</td>\n      <td>0.442623</td>\n    </tr>\n    <tr>\n      <th>549</th>\n      <td>NaN</td>\n      <td>bmw</td>\n      <td>NaN</td>\n      <td>CVT</td>\n      <td>NaN</td>\n      <td>NaN</td>\n      <td>1</td>\n      <td>0</td>\n      <td>0.007337</td>\n      <td>0.672131</td>\n    </tr>\n  </tbody>\n</table>\n</div>"
     },
     "execution_count": 96,
     "metadata": {},
     "output_type": "execute_result"
    }
   ],
   "source": [
    "input_gearbox = \"\"\n",
    "while input_gearbox not in all_gearboxes_list:\n",
    "    input_gearbox = input(\"Gearbox: \" + str(all_gearboxes_list) + \"?\")\n",
    "    input_gearbox = input_gearbox.upper()\n",
    "\n",
    "input_brand = \"\"\n",
    "while input_brand not in all_brands_list:\n",
    "    input_brand = input(\"Brand: \" + str(all_brands_list) + \"?\")\n",
    "    input_brand = input_brand.lower()\n",
    "\n",
    "input_year = 0\n",
    "while input_year < year_min or input_year > year_max:\n",
    "    input_year = input(\"Model Year (between \" + str(year_min) + \" and \" + str(year_max) + \")\")\n",
    "    input_year = float(input_year)\n",
    "\n",
    "input_cc = 0\n",
    "while input_cc < cc_min or input_cc > cc_max:\n",
    "    input_cc = input(\"Engine cc (between \" + str(cc_min) + \" and \" + str(cc_max) + \")\")\n",
    "    input_cc = float(input_cc)\n",
    "\n",
    "X_pred = {\n",
    "    \"brand\": input_brand,\n",
    "    \"gearbox_normalized\": input_gearbox,\n",
    "    \"brand_idx\": int(np.where(all_brands_list == input_brand)[0]),\n",
    "    \"gearbox_idx\": int(np.where(all_gearboxes_list == input_gearbox)[0]),\n",
    "    \"year_normalized\": float((input_year - year_min) / (year_max - year_min)),\n",
    "    \"cc_normalized\": float((input_cc - cc_min) / (cc_max - cc_min)),\n",
    "}\n",
    "X_pred = pd.DataFrame(X_pred, index=[0])\n",
    "df = pd.concat([df, X_pred], axis=0, ignore_index=True)\n",
    "\n",
    "df.tail()"
   ],
   "metadata": {
    "collapsed": false,
    "ExecuteTime": {
     "end_time": "2024-02-02T09:12:13.247600600Z",
     "start_time": "2024-02-02T09:12:01.408294Z"
    }
   },
   "id": "2c04145b0bd8633c",
   "execution_count": 96
  },
  {
   "cell_type": "markdown",
   "source": [
    "And here's your prediction!"
   ],
   "metadata": {
    "collapsed": false
   },
   "id": "d15268acbc07fb26"
  },
  {
   "cell_type": "code",
   "outputs": [
    {
     "name": "stdout",
     "output_type": "stream",
     "text": [
      "2002 bmw 900 CVT\n",
      "City km/L: 10.48488712310791\n",
      "Highway km/L: 9.835464477539062\n"
     ]
    }
   ],
   "source": [
    "X_pred = df.iloc[-1]\n",
    "X_pred = X_pred[X_columns]\n",
    "X_pred = torch.tensor(X_pred.values.astype(float)).reshape(1, -1)\n",
    "\n",
    "X_pred = X_pred.to(device, dtype=torch.float32)\n",
    "y_city_pred, y_hwy_pred = model(X_pred)\n",
    "print(int(input_year), input_brand, int(input_cc), input_gearbox)\n",
    "print(\"City km/L:\", float(y_city_pred))\n",
    "print(\"Highway km/L:\", float(y_hwy_pred))"
   ],
   "metadata": {
    "collapsed": false,
    "ExecuteTime": {
     "end_time": "2024-02-02T09:12:21.933523400Z",
     "start_time": "2024-02-02T09:12:21.696828900Z"
    }
   },
   "id": "3c26e9258847e558",
   "execution_count": 97
  }
 ],
 "metadata": {
  "kernelspec": {
   "display_name": "Python 3",
   "language": "python",
   "name": "python3"
  },
  "language_info": {
   "codemirror_mode": {
    "name": "ipython",
    "version": 2
   },
   "file_extension": ".py",
   "mimetype": "text/x-python",
   "name": "python",
   "nbconvert_exporter": "python",
   "pygments_lexer": "ipython2",
   "version": "2.7.6"
  }
 },
 "nbformat": 4,
 "nbformat_minor": 5
}
